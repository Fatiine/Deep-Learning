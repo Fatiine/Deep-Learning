{
 "cells": [
  {
   "cell_type": "markdown",
   "metadata": {},
   "source": [
    "**You may need to install [OpenCV](https://pypi.python.org/pypi/opencv-python) and [scikit-video](http://www.scikit-video.org/stable/).**"
   ]
  },
  {
   "cell_type": "code",
   "execution_count": 1,
   "metadata": {},
   "outputs": [
    {
     "name": "stderr",
     "output_type": "stream",
     "text": [
      "/Users/noemiequere/anaconda/lib/python3.6/site-packages/h5py/__init__.py:34: FutureWarning: Conversion of the second argument of issubdtype from `float` to `np.floating` is deprecated. In future, it will be treated as `np.float64 == np.dtype(float).type`.\n",
      "  from ._conv import register_converters as _register_converters\n",
      "Using TensorFlow backend.\n"
     ]
    }
   ],
   "source": [
    "import keras\n",
    "import pandas as pd\n",
    "import numpy as np\n",
    "import io\n",
    "import base64\n",
    "from IPython.display import HTML\n",
    "import skvideo.io\n",
    "import cv2\n",
    "import json\n",
    "\n",
    "from keras.models import Sequential,model_from_json\n",
    "from keras.layers.core import Dense\n",
    "from keras.optimizers import sgd\n",
    "from keras.layers import Conv2D, MaxPooling2D, Activation, AveragePooling2D,Reshape,BatchNormalization, Flatten, Dropout"
   ]
  },
  {
   "cell_type": "markdown",
   "metadata": {},
   "source": [
    "# MiniProject #3: Deep Reinforcement Learning"
   ]
  },
  {
   "cell_type": "markdown",
   "metadata": {},
   "source": [
    "__Notations__: $E_p$ is the expectation under probability $p$. Please justify each of your answer and widely comment your code."
   ]
  },
  {
   "cell_type": "markdown",
   "metadata": {},
   "source": [
    "# Context"
   ]
  },
  {
   "cell_type": "markdown",
   "metadata": {},
   "source": [
    "In a reinforcement learning algorithm, we modelize each step $t$ as an action $a_t$ obtained from a state $s_t$, i.e. $\\{(a_{t},s_{t})_{t\\leq T}\\}$ having the Markov property. We consider a discount factor $\\gamma \\in [0,1]$ that ensures convergence. The goal is to find among all the policies $\\pi$, one that maximizes the expected reward:\n",
    "\n",
    "\\begin{equation*}\n",
    "R(\\pi)=\\sum_{t\\leq T}E_{p^{\\pi}}[\\gamma^t r(s_{t},a_{t})] \\> ,\n",
    "\\end{equation*}\n",
    "\n",
    "where: \n",
    "\\begin{equation*}p^{\\pi}(a_{0},a_{1},s_{1},...,a_{T},s_{T})=p(a_{0})\\prod_{t=1}^{T}\\pi(a_{t}|s_{t})p(s_{t+1}|s_{t},a_{t}) \\> .\n",
    "\\end{equation*}\n",
    "\n",
    "We note the $Q$-function:\n",
    "\n",
    "\\begin{equation*}Q^\\pi(s,a)=E_{p^{\\pi}}[\\sum_{t\\leq T}\\gamma^{t}r(s_{t},a_{t})|s_{0}=s,a_{0}=a] \\> .\n",
    "\\end{equation*}\n",
    "\n",
    "Thus, the optimal Q function is:\n",
    "\\begin{equation*}\n",
    "Q^*(s,a)=\\max_{\\pi}Q^\\pi(s,a) \\> .\n",
    "\\end{equation*}\n",
    "\n",
    "In this project, we will apply the deep reinforcement learning techniques to a simple game: an agent will have to learn from scratch a policy that will permit it maximizing a reward."
   ]
  },
  {
   "cell_type": "markdown",
   "metadata": {},
   "source": [
    "## The environment, the agent and the game"
   ]
  },
  {
   "cell_type": "markdown",
   "metadata": {},
   "source": [
    "### The environment"
   ]
  },
  {
   "cell_type": "markdown",
   "metadata": {},
   "source": [
    "```Environment``` is an abstract class that represents the states, rewards, and actions to obtain the new state."
   ]
  },
  {
   "cell_type": "code",
   "execution_count": 2,
   "metadata": {},
   "outputs": [],
   "source": [
    "class Environment(object):\n",
    "    def __init__(self):\n",
    "        pass\n",
    "\n",
    "    def act(self, act):\n",
    "        \"\"\"\n",
    "        One can act on the environment and obtain its reaction:\n",
    "        - the new state\n",
    "        - the reward of the new state\n",
    "        - should we continue the game?\n",
    "\n",
    "        :return: state, reward, game_over\n",
    "        \"\"\"\n",
    "        pass\n",
    "\n",
    "\n",
    "    def reset(self):\n",
    "        \"\"\"\n",
    "        Reinitialize the environment to a random state and returns\n",
    "        the original state\n",
    "\n",
    "        :return: state\n",
    "        \"\"\"\n",
    "        pass\n",
    "    \n",
    "    def draw(self):\n",
    "        \"\"\"\n",
    "        Visualize in the console or graphically the current state\n",
    "        \"\"\"\n",
    "        pass"
   ]
  },
  {
   "cell_type": "markdown",
   "metadata": {},
   "source": [
    "The method ```act``` allows to act on the environment at a given state $s_t$ (stored internally), via action $a_t$. The method will return the new state $s_{t+1}$, the reward $r(s_{t},a_{t})$ and determines if $t\\leq T$ (*game_over*).\n",
    "\n",
    "The method ```reset``` simply reinitializes the environment to a random state $s_0$.\n",
    "\n",
    "The method ```draw``` displays the current state $s_t$ (this is useful to check the behavior of the Agent).\n",
    "\n",
    "We modelize $s_t$ as a tensor, while $a_t$ is an integer."
   ]
  },
  {
   "cell_type": "markdown",
   "metadata": {},
   "source": [
    "### The Agent"
   ]
  },
  {
   "cell_type": "markdown",
   "metadata": {},
   "source": [
    "The goal of the ```Agent``` is to interact with the ```Environment``` by proposing actions $a_t$ obtained from a given state $s_t$ to attempt to maximize its __reward__ $r(s_t,a_t)$. We propose the following abstract class:"
   ]
  },
  {
   "cell_type": "code",
   "execution_count": 3,
   "metadata": {},
   "outputs": [],
   "source": [
    "class Agent(object):\n",
    "    def __init__(self, epsilon=0.1, n_action=4):\n",
    "        self.epsilon = epsilon\n",
    "        self.n_action = n_action\n",
    "    \n",
    "    def set_epsilon(self,e):\n",
    "        self.epsilon = e\n",
    "        \n",
    "    def get_epsilon(self):\n",
    "        return self.epsilon\n",
    "\n",
    "    def act(self,s,train=True):\n",
    "        \"\"\" This function should return the next action to do:\n",
    "        an integer between 0 and 4 (not included) with a random exploration of epsilon\"\"\"\n",
    "        if train:\n",
    "            if np.random.rand() <= self.epsilon:\n",
    "                a = np.random.randint(0, self.n_action, size=1)[0]\n",
    "            else:\n",
    "                a = self.learned_act(s)\n",
    "        else: # in some cases, this can improve the performance.. remove it if poor performances\n",
    "            a = self.learned_act(s)\n",
    "\n",
    "        return a\n",
    "\n",
    "    def learned_act(self,s):\n",
    "        \"\"\" Act via the policy of the agent, from a given state s\n",
    "        it proposes an action a\"\"\"\n",
    "        pass\n",
    "\n",
    "    def reinforce(self, s, n_s, a, r, game_over_):\n",
    "        \"\"\" This function is the core of the learning algorithm. \n",
    "        It takes as an input the current state s_, the next state n_s_\n",
    "        the action a_ used to move from s_ to n_s_ and the reward r_.\n",
    "        \n",
    "        Its goal is to learn a policy.\n",
    "        \"\"\"\n",
    "        pass\n",
    "\n",
    "    def save(self):\n",
    "        \"\"\" This function returns basic stats if applicable: the\n",
    "        loss and/or the model\"\"\"\n",
    "        pass\n",
    "\n",
    "    def load(self):\n",
    "        \"\"\" This function allows to restore a model\"\"\"\n",
    "        pass"
   ]
  },
  {
   "cell_type": "markdown",
   "metadata": {},
   "source": [
    "***\n",
    "__Question 1__:\n",
    "Explain the function act. Why is ```epsilon``` essential?"
   ]
  },
  {
   "cell_type": "markdown",
   "metadata": {},
   "source": [
    "At each time step, there are K possible actions (here k=4). The function ```act``` chooses the next action to perform based on either a *explorative* or *exploitative* strategy. In 10% of the cases (random value [0,1)] < epsilon, with epsilon = 0.1), it will choose an *explorative* strategy, by picking a random action instead of the greedy action. In the rest of the cases (probability 1 - ```epsilon```) , it will pick the greedy action, defined by:\n",
    "\n",
    "\\begin{equation*}\n",
    "Q^*(s,a)=\\max_{\\pi}Q^\\pi(s,a) \\> .\n",
    "\\end{equation*}\n",
    "\n",
    "```epsilon``` is essential because it prevents the model from overfitting during the training. The fact that epsilon is set at a very low value (0.1) is good so that it allows a strong bias towards exploitation over exploration, favouring choosing the action with the highest q-value over a random action."
   ]
  },
  {
   "cell_type": "markdown",
   "metadata": {},
   "source": [
    "***\n",
    "### The Game"
   ]
  },
  {
   "cell_type": "markdown",
   "metadata": {},
   "source": [
    "The ```Agent``` and the ```Environment``` work in an interlaced way as in the following (take some time to understand this code as it is the core of the project)\n",
    "\n",
    "```python\n",
    "\n",
    "epoch = 300\n",
    "env = Environment()\n",
    "agent = Agent()\n",
    "\n",
    "\n",
    "# Number of won games\n",
    "score = 0\n",
    "loss = 0\n",
    "\n",
    "\n",
    "for e in range(epoch):\n",
    "    # At each epoch, we restart to a fresh game and get the initial state\n",
    "    state = env.reset()\n",
    "    # This assumes that the games will end\n",
    "    game_over = False\n",
    "\n",
    "    win = 0\n",
    "    lose = 0\n",
    "    \n",
    "    while not game_over:\n",
    "        # The agent performs an action\n",
    "        action = agent.act(state)\n",
    "\n",
    "        # Apply an action to the environment, get the next state, the reward\n",
    "        # and if the games end\n",
    "        prev_state = state\n",
    "        state, reward, game_over = env.act(action)\n",
    "\n",
    "        # Update the counters\n",
    "        if reward > 0:\n",
    "            win = win + reward\n",
    "        if reward < 0:\n",
    "            lose = lose -reward\n",
    "\n",
    "        # Apply the reinforcement strategy\n",
    "        loss = agent.reinforce(prev_state, state,  action, reward, game_over)\n",
    "\n",
    "    # Save as a mp4\n",
    "    if e % 10 == 0:\n",
    "        env.draw(e)\n",
    "\n",
    "    # Update stats\n",
    "    score += win-lose\n",
    "\n",
    "    print(\"Epoch {:03d}/{:03d} | Loss {:.4f} | Win/lose count {}/{} ({})\"\n",
    "          .format(e, epoch, loss, win, lose, win-lose))\n",
    "    agent.save()\n",
    "```"
   ]
  },
  {
   "cell_type": "markdown",
   "metadata": {},
   "source": [
    "# The game, *eat cheese*"
   ]
  },
  {
   "cell_type": "markdown",
   "metadata": {},
   "source": [
    "A rat runs on an island and tries to eat as much as possible. The island is subdivided into $N\\times N$ cells, in which there are cheese (+0.5) and poisonous cells (-1). The rat has a visibility of 2 cells (thus it can see $5^2$ cells). The rat is given a time $T$ to accumulate as much food as possible. It can perform 4 actions: going up, down, left, right. \n",
    "\n",
    "The goal is to code an agent to solve this task that will learn by trial and error. We propose the following environment:"
   ]
  },
  {
   "cell_type": "code",
   "execution_count": 4,
   "metadata": {},
   "outputs": [],
   "source": [
    "class Environment(object):\n",
    "    def __init__(self, grid_size=10, max_time=500, temperature=0.1):\n",
    "        grid_size = grid_size+4\n",
    "        self.grid_size = grid_size\n",
    "        self.max_time = max_time\n",
    "        self.temperature = temperature\n",
    "\n",
    "        #board on which one plays\n",
    "        self.board = np.zeros((grid_size,grid_size))\n",
    "        self.position = np.zeros((grid_size,grid_size))\n",
    "\n",
    "        # coordinate of the rat\n",
    "        self.x = 0\n",
    "        self.y = 1\n",
    "\n",
    "        # self time\n",
    "        self.t = 0\n",
    "\n",
    "        self.scale=16\n",
    "\n",
    "        self.to_draw = np.zeros((max_time+2, grid_size*self.scale, grid_size*self.scale, 3))\n",
    "\n",
    "\n",
    "    def draw(self,e):\n",
    "        skvideo.io.vwrite(str(e) + '.mp4', self.to_draw)\n",
    "\n",
    "    def get_frame(self,t):\n",
    "        b = np.zeros((self.grid_size,self.grid_size,3))+128\n",
    "        b[self.board>0,0] = 256\n",
    "        b[self.board < 0, 2] = 256\n",
    "        b[self.x,self.y,:]=256\n",
    "        b[-2:,:,:]=0\n",
    "        b[:,-2:,:]=0\n",
    "        b[:2,:,:]=0\n",
    "        b[:,:2,:]=0\n",
    "        \n",
    "        b =  cv2.resize(b, None, fx=self.scale, fy=self.scale, interpolation=cv2.INTER_NEAREST)\n",
    "\n",
    "        self.to_draw[t,:,:,:]=b\n",
    "\n",
    "\n",
    "    def act(self, action):\n",
    "        \"\"\"This function returns the new state, reward and decides if the\n",
    "        game ends.\"\"\"\n",
    "\n",
    "        self.get_frame(int(self.t))\n",
    "\n",
    "        self.position = np.zeros((self.grid_size, self.grid_size))\n",
    "\n",
    "        self.position[0:2,:]= -1\n",
    "        self.position[:,0:2] = -1\n",
    "        self.position[-2:, :] = -1\n",
    "        #error ==> self.position[-2:, :]\n",
    "        self.position[:, -2:] = -1\n",
    "\n",
    "        self.position[self.x, self.y] = 1\n",
    "        if action == 0:\n",
    "            if self.x == self.grid_size-3:\n",
    "                self.x = self.x - 1\n",
    "            else:\n",
    "                self.x = self.x + 1\n",
    "        elif action == 1:\n",
    "            if self.x == 2:\n",
    "                self.x = self.x+1\n",
    "            else:\n",
    "                self.x = self.x-1\n",
    "        elif action == 2:\n",
    "            if self.y == self.grid_size - 3:\n",
    "                self.y = self.y - 1\n",
    "            else:\n",
    "                self.y = self.y + 1\n",
    "        elif action == 3:\n",
    "            if self.y == 2:\n",
    "                self.y = self.y + 1\n",
    "            else:\n",
    "                self.y = self.y - 1\n",
    "        else:\n",
    "            RuntimeError('Error: action not recognized')\n",
    "\n",
    "        self.t = self.t + 1\n",
    "        reward = self.board[self.x, self.y]\n",
    "        self.board[self.x, self.y] = 0\n",
    "        game_over = self.t > self.max_time\n",
    "        state = np.concatenate((self.board.reshape(self.grid_size, self.grid_size,1),\n",
    "                        self.position.reshape(self.grid_size, self.grid_size,1)),axis=2)\n",
    "        state = state[self.x-2:self.x+3,self.y-2:self.y+3,:]\n",
    "\n",
    "        return state, reward, game_over\n",
    "\n",
    "    def reset(self):\n",
    "        \"\"\"This function resets the game and returns the initial state\"\"\"\n",
    "\n",
    "        self.x = np.random.randint(3, self.grid_size-3, size=1)[0]\n",
    "        self.y = np.random.randint(3, self.grid_size-3, size=1)[0]\n",
    "\n",
    "\n",
    "        bonus = 0.5*np.random.binomial(1,self.temperature,size=self.grid_size**2)\n",
    "        bonus = bonus.reshape(self.grid_size,self.grid_size)\n",
    "\n",
    "        malus = -1.0*np.random.binomial(1,self.temperature,size=self.grid_size**2)\n",
    "        malus = malus.reshape(self.grid_size, self.grid_size)\n",
    "\n",
    "        self.to_draw = np.zeros((self.max_time+2, self.grid_size*self.scale, self.grid_size*self.scale, 3))\n",
    "\n",
    "\n",
    "        malus[bonus>0]=0\n",
    "\n",
    "        self.board = bonus + malus\n",
    "\n",
    "        self.position = np.zeros((self.grid_size, self.grid_size))\n",
    "        self.position[0:2,:]= -1\n",
    "        self.position[:,0:2] = -1\n",
    "        self.position[-2:, :] = -1\n",
    "        self.position[-2:, :] = -1\n",
    "        self.board[self.x,self.y] = 0\n",
    "        self.t = 0\n",
    "\n",
    "        state = np.concatenate((\n",
    "                               self.board.reshape(self.grid_size, self.grid_size,1),\n",
    "                        self.position.reshape(self.grid_size, self.grid_size,1)),axis=2)\n",
    "\n",
    "        state = state[self.x - 2:self.x + 3, self.y - 2:self.y + 3, :]\n",
    "        return state"
   ]
  },
  {
   "cell_type": "markdown",
   "metadata": {},
   "source": [
    "The following elements are important because they correspond to the hyper parameters for this project:"
   ]
  },
  {
   "cell_type": "code",
   "execution_count": 5,
   "metadata": {},
   "outputs": [],
   "source": [
    "# parameters\n",
    "size = 13\n",
    "T=200\n",
    "temperature=0.3\n",
    "epochs_train=11 # set small when debugging\n",
    "epochs_test=11 # set small when debugging\n",
    "\n",
    "# display videos\n",
    "def display_videos(name):\n",
    "    video = io.open(name, 'r+b').read()\n",
    "    encoded = base64.b64encode(video)\n",
    "    return '''<video alt=\"test\" controls>\n",
    "                <source src=\"data:video/mp4;base64,{0}\" type=\"video/mp4\" />\n",
    "             </video>'''.format(encoded.decode('ascii'))"
   ]
  },
  {
   "cell_type": "markdown",
   "metadata": {},
   "source": [
    "__Question 2__ Explain the use of the arrays ```position``` and ```board```."
   ]
  },
  {
   "cell_type": "markdown",
   "metadata": {},
   "source": [
    "The array ```position``` is used to track the position of the rat on the island, that is to say its position on the board, which is defined by an 10x10 grid. In the ```act``` function, the ```position``` is updated depending on the value of x and y, that are changed regarding the action taken by the player. The value in the array corresponding to the position of the rat takes value 1, that is to say if the rat is on the cell of coordinates (3,4), the matrix of dimension (board_size, board_size) will take value 1 at position (3,4). It is then used to update the state. The array has values -1 on the 2-cell edges of the board.\n",
    "\n",
    "```board``` simply every possible place the area where the rat can be, with coordinates x and y. The cells have different values that corresponds to colors: red is cheese, blue is poison and grey represents an empty cell. Every time the agent moves, the corresponding cell becomes (or stays) grey to indicate whether the rat has eaten the poison, the cheese, or if nothing happened."
   ]
  },
  {
   "cell_type": "markdown",
   "metadata": {},
   "source": [
    "## Random Agent"
   ]
  },
  {
   "cell_type": "markdown",
   "metadata": {},
   "source": [
    "***\n",
    "__Question 3__ Implement a random Agent (only ```learned_act``` needs to be implemented):"
   ]
  },
  {
   "cell_type": "code",
   "execution_count": 6,
   "metadata": {},
   "outputs": [],
   "source": [
    "class RandomAgent(Agent):\n",
    "    def __init__(self):\n",
    "        super(RandomAgent, self).__init__()\n",
    "        pass\n",
    "\n",
    "    def learned_act(self, s):\n",
    "        \"\"\" Act via the policy of the agent, from a given state s\n",
    "        it proposes an action a\"\"\"\n",
    "        n_action = 4\n",
    "        action = np.random.randint(0, n_action, size=1)[0]\n",
    " \n",
    "        return action"
   ]
  },
  {
   "cell_type": "markdown",
   "metadata": {},
   "source": [
    "***\n",
    "***\n",
    "__Question 4__ Visualize the game moves. You need to fill in the following function for the evaluation:"
   ]
  },
  {
   "cell_type": "code",
   "execution_count": 7,
   "metadata": {},
   "outputs": [],
   "source": [
    "def test(agent,env,epochs,prefix=''):\n",
    "    # Number of won games\n",
    "    score = 0\n",
    "        \n",
    "    for e in range(epochs):\n",
    "        ##### FILL IN HERE\n",
    "        \n",
    "        #restart a fresh game at each epoch\n",
    "        state = env.reset()\n",
    "        game_over = False\n",
    "        win = 0\n",
    "        lose = 0\n",
    "        \n",
    "        while not game_over:\n",
    "        \n",
    "            action = agent.act(state)\n",
    "            prev_state = state\n",
    "            state, reward, game_over = env.act(action)\n",
    "\n",
    "            # Update the counters\n",
    "            if reward > 0:\n",
    "                win = win + reward\n",
    "            if reward < 0:\n",
    "                lose = lose - reward\n",
    "\n",
    "            # Apply the reinforcement strategy\n",
    "            loss = agent.reinforce(prev_state, state,  action, reward, game_over)\n",
    "        \n",
    "        # Save as a mp4\n",
    "        env.draw(prefix+str(e))\n",
    "\n",
    "        # Update stats\n",
    "        score = score + win-lose\n",
    "\n",
    "        print(\"Win/lose count {}/{}. Average score ({})\"\n",
    "              .format(win, lose, score/(1+e)))\n",
    "    print('Final score: '+str(score/epochs))"
   ]
  },
  {
   "cell_type": "code",
   "execution_count": 8,
   "metadata": {},
   "outputs": [
    {
     "name": "stdout",
     "output_type": "stream",
     "text": [
      "Win/lose count 7.5/14.0. Average score (-6.5)\n",
      "Win/lose count 7.0/14.0. Average score (-6.75)\n",
      "Win/lose count 7.5/9.0. Average score (-5.0)\n",
      "Win/lose count 17.5/14.0. Average score (-2.875)\n",
      "Win/lose count 14.0/19.0. Average score (-3.3)\n",
      "Win/lose count 11.5/20.0. Average score (-4.166666666666667)\n",
      "Win/lose count 7.5/20.0. Average score (-5.357142857142857)\n",
      "Win/lose count 10.5/13.0. Average score (-5.0)\n",
      "Win/lose count 10.0/10.0. Average score (-4.444444444444445)\n",
      "Win/lose count 16.5/15.0. Average score (-3.85)\n",
      "Win/lose count 6.5/7.0. Average score (-3.5454545454545454)\n",
      "Final score: -3.5454545454545454\n"
     ]
    },
    {
     "data": {
      "text/html": [
       "<video alt=\"test\" controls>\n",
       "                <source src=\"data:video/mp4;base64,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\" type=\"video/mp4\" />\n",
       "             </video>"
      ],
      "text/plain": [
       "<IPython.core.display.HTML object>"
      ]
     },
     "execution_count": 8,
     "metadata": {},
     "output_type": "execute_result"
    }
   ],
   "source": [
    "# Initialize the game\n",
    "env = Environment(grid_size=size, max_time=T,temperature=temperature)\n",
    "\n",
    "# Initialize the agent!\n",
    "agent = RandomAgent()\n",
    "\n",
    "test(agent,env,epochs_test,prefix='random')\n",
    "HTML(display_videos('random10.mp4'))"
   ]
  },
  {
   "cell_type": "markdown",
   "metadata": {},
   "source": [
    "***\n",
    "## DQN"
   ]
  },
  {
   "cell_type": "markdown",
   "metadata": {},
   "source": [
    "Let us assume here that $T=\\infty$.\n",
    "\n",
    "***\n",
    "__Question 5__ Let $\\pi$ be a policy, show that:\n",
    "\n",
    "\\begin{equation*}\n",
    "Q^{\\pi}(s,a)=E_{(s',a')\\sim p(.|s,a)}[r(s,a)+\\gamma Q^{\\pi}(s',a')]\n",
    "\\end{equation*}\n",
    "\n",
    "Then, show that for the optimal policy $\\pi^*$ (we assume its existence), the following holds: \n",
    "\n",
    "\\begin{equation*}\n",
    "Q^{*}(s,a)=E_{s'\\sim \\pi^*(.|s,a)}[r(s,a)+\\gamma\\max_{a'}Q^{*}(s',a')].\n",
    "\\end{equation*}\n",
    "Finally, deduce that a plausible objective is:\n",
    "\n",
    "\\begin{equation*}\n",
    "\\mathcal{L}(\\theta)=E_{s' \\sim \\pi^*(.|s,a)}\\Vert r+\\gamma\\max\\max_{a'}Q(s',a',\\theta)-Q(s,a,\\theta)\\Vert^{2}.\n",
    "\\end{equation*}\n",
    "\n",
    "\n"
   ]
  },
  {
   "cell_type": "markdown",
   "metadata": {},
   "source": [
    "__Answer__\n",
    "\n",
    "\n",
    "We note the $Q$-function:\n",
    "\n",
    "\\begin{equation*}Q^\\pi(s,a)=E_{p^{\\pi}}[\\sum_{t\\leq T}\\gamma^{t}r(s_{t},a_{t})|s_{0}=s,a_{0}=a] \\> .\n",
    "\\end{equation*}\n",
    "\n",
    "We can write Q recursively to get a Bellman equation.\n",
    "\n",
    "\\begin{equation*}Q^\\pi(s,a)=E_{(s', a')\\sim p(.|s,a)}[r(s,a) + {\\gamma}\\sum_{t\\leq T}\\gamma^{t}r(s_{t+1},a_{t+1})|s_{0}=s,a_{0}=a] \\> \n",
    "\\end{equation*}\n",
    "\n",
    "\\begin{equation*}Q^\\pi(s,a)=E_{(s', a')\\sim p(.|s,a)}[r(s,a) + {\\gamma}Q^\\pi(s',a')] \\> .\n",
    "\\end{equation*}\n",
    "\n",
    "Where s' and a' are the state and the action in the period following that of s and a.\n",
    "\n",
    "Given that the optimal Q function is:\n",
    "\\begin{equation*}\n",
    "Q^*(s,a)=\\max_{\\pi}Q^\\pi(s,a) \\> .\n",
    "\\end{equation*}\n",
    "\n",
    "By plugging this into the Bellman equation, and by exploiting the Markov property:\n",
    "\n",
    "\\begin{equation*}\n",
    "Q^{*}(s,a)=E_{s'\\sim \\pi^*(.|s,a)}[r(s,a)+\\gamma\\max_{a'}Q^{*}(s',a')].\n",
    "\\end{equation*}\n",
    "\n",
    "Therefore, taking a mean squared error loss, a plausible objective function is:\n",
    "\n",
    "\\begin{equation*}\n",
    "\\mathcal{L}(\\theta)=E_{s' \\sim \\pi^*(.|s,a)}\\Vert r+\\gamma\\max\\max_{a'}Q(s',a',\\theta)-Q(s,a,\\theta)\\Vert^{2}.\n",
    "\\end{equation*}\n",
    "\n",
    "We try to choose Q such that it is as close as possible to the optimal strategy."
   ]
  },
  {
   "cell_type": "markdown",
   "metadata": {},
   "source": [
    "***\n",
    "The DQN-learning algorithm relies on these derivations to train the parameters $\\theta$ of a Deep Neural Network:\n",
    "\n",
    "1. At the state $s_t$, select the action $a_t$ with best reward using $Q_t$ and store the results;\n",
    "\n",
    "2. Obtain the new state $s_{t+1}$ from the environment $p$;\n",
    "\n",
    "3. Store $(s_t,a_t,s_{t+1})$;\n",
    "\n",
    "4. Obtain $Q_{t+1}$ by minimizing  $\\mathcal{L}$ from a recovered batch from the previously stored results.\n",
    "\n",
    "***\n",
    "__Question 6__ Implement the class ```Memory``` that stores moves (in a replay buffer) via ```remember``` and provides a ```random_access``` to these. Specify a maximum memory size to avoid side effects. You can for example use a ```list()``` and set by default ```max_memory=100```."
   ]
  },
  {
   "cell_type": "code",
   "execution_count": 9,
   "metadata": {},
   "outputs": [],
   "source": [
    "class Memory(object):\n",
    "    def __init__(self, max_memory=100):\n",
    "        self.max_memory = max_memory\n",
    "        self.memory = list()\n",
    "        self.i = 0\n",
    "\n",
    "    def remember(self, m):\n",
    "        \n",
    "        if len(self.memory) < self.max_memory:\n",
    "            self.memory.append(m)\n",
    "        else:\n",
    "            self.memory[self.i] = m\n",
    "            self.i += 1\n",
    "            if self.i >= self.max_memory:\n",
    "                self.i=0\n",
    "                \n",
    "    def random_access(self):\n",
    "        \n",
    "        rand_access = np.random.randint(len(self.memory))\n",
    "        \n",
    "        return self.memory[rand_access]"
   ]
  },
  {
   "cell_type": "markdown",
   "metadata": {},
   "source": [
    "***\n",
    "The pipeline we will use for training is given below:"
   ]
  },
  {
   "cell_type": "code",
   "execution_count": 10,
   "metadata": {},
   "outputs": [],
   "source": [
    "def train(agent,env,epoch,prefix=''):\n",
    "    # Number of won games\n",
    "    score = 0\n",
    "    loss = 0\n",
    "\n",
    "    for e in range(epoch):\n",
    "        # At each epoch, we restart to a fresh game and get the initial state\n",
    "        state = env.reset()\n",
    "        # This assumes that the games will terminate\n",
    "        game_over = False\n",
    "\n",
    "        win = 0\n",
    "        lose = 0\n",
    "\n",
    "        while not game_over:\n",
    "            # The agent performs an action\n",
    "            action = agent.act(state)\n",
    "\n",
    "            # Apply an action to the environment, get the next state, the reward\n",
    "            # and if the games end\n",
    "            prev_state = state\n",
    "            state, reward, game_over = env.act(action)\n",
    "\n",
    "            # Update the counters\n",
    "            if reward > 0:\n",
    "                win = win + reward\n",
    "            if reward < 0:\n",
    "                lose = lose -reward\n",
    "\n",
    "            # Apply the reinforcement strategy\n",
    "            loss = agent.reinforce(prev_state, state,  action, reward, game_over)\n",
    "\n",
    "        # Save as a mp4\n",
    "        if e % 10 == 0:\n",
    "            env.draw(prefix+str(e))\n",
    "\n",
    "        # Update stats\n",
    "        score += win-lose\n",
    "\n",
    "        print(\"Epoch {:03d}/{:03d} | Loss {:.4f} | Win/lose count {}/{} ({})\"\n",
    "              .format(e, epoch, loss, win, lose, win-lose))\n",
    "        agent.save(name_weights=prefix+'model.h5',name_model=prefix+'model.json')"
   ]
  },
  {
   "cell_type": "markdown",
   "metadata": {},
   "source": [
    "***\n",
    "__Question 7__ Implement the DQN training algorithm using a cascade of fully connected layers. You can use different learning rate, batch size or memory size parameters. In particular, the loss might oscillate while the player will start to win the games. You have to find a good criterium."
   ]
  },
  {
   "cell_type": "code",
   "execution_count": 11,
   "metadata": {},
   "outputs": [],
   "source": [
    "class DQN(Agent):\n",
    "    def __init__(self, grid_size,  epsilon = 0.1, memory_size=100, batch_size = 16,n_state=2):\n",
    "        super(DQN, self).__init__(epsilon = epsilon)\n",
    "\n",
    "        # Discount for Q learning\n",
    "        self.discount = 0.99\n",
    "        \n",
    "        self.grid_size = grid_size\n",
    "        \n",
    "        # number of state\n",
    "        self.n_state = n_state\n",
    "\n",
    "        # Memory\n",
    "        self.memory = Memory(memory_size)\n",
    "        \n",
    "        # Batch size when learning\n",
    "        self.batch_size = batch_size\n",
    "\n",
    "    def learned_act(self, s):\n",
    "        act_pred = self.model.predict(np.reshape(s, (1, 5, 5, self.n_state)))\n",
    "        \n",
    "        return np.argmax(act_pred[0])\n",
    "    \n",
    "    def reinforce(self, s_, n_s_, a_, r_, game_over_):\n",
    "         # Two steps: first memorize the states, second learn from the pool\n",
    "        \n",
    "\n",
    "        self.memory.remember([s_, n_s_, a_, r_, game_over_])\n",
    "\n",
    "        input_states = np.zeros((self.batch_size, 5,5,self.n_state))\n",
    "        target_q = np.zeros((self.batch_size, 4))\n",
    "        \n",
    "        for i in range(self.batch_size):\n",
    "            #everytime we loop, get a new item from memory\n",
    "            batch = self.memory.random_access()\n",
    "            \n",
    "            #get variables depending on their position in the batch\n",
    "            state = batch[0]\n",
    "            next_state = batch[1]\n",
    "            action = batch[2]\n",
    "            reward = batch[3]\n",
    "            game_over = batch[4]\n",
    "            \n",
    "            input_states[i] = state # state observed in t\n",
    "            \n",
    "            #when game is over target is stored reward\n",
    "            if game_over_:\n",
    "                target_q[i, action] = reward \n",
    "                \n",
    "            #otherwise, the reward is changedd\n",
    "            else:\n",
    "                ns_reshaped = np.reshape(next_state, (1, 5, 5, self.n_state))\n",
    "                target_q[i, action] = (reward + self.discount * np.amax(self.model.predict(ns_reshaped)))\n",
    "    \n",
    "        target_q = np.clip(target_q, -3, 3)\n",
    "        l = self.model.train_on_batch(input_states, target_q)\n",
    "        \n",
    "        return l\n",
    "         \n",
    "\n",
    "    def save(self,name_weights='model.h5',name_model='model.json'):\n",
    "        self.model.save_weights(name_weights, overwrite=True)\n",
    "        with open(name_model, \"w\") as outfile:\n",
    "            json.dump(self.model.to_json(), outfile)\n",
    "            \n",
    "    def load(self,name_weights='model.h5',name_model='model.json'):\n",
    "        with open(name_model, \"r\") as jfile:\n",
    "            model = model_from_json(json.load(jfile))\n",
    "        model.load_weights(name_weights)\n",
    "        model.compile(\"sgd\", \"mse\")\n",
    "        self.model = model\n",
    "\n",
    "            \n",
    "class DQN_FC(DQN):\n",
    "    def __init__(self, *args, lr=0.1,**kwargs):\n",
    "        super(DQN_FC, self).__init__( *args,**kwargs)\n",
    "\n",
    "        max_memory = 500\n",
    "        batch_size = 50\n",
    "        grid_size = 10\n",
    "        \n",
    "        \n",
    "        # NN Model\n",
    "        model = Sequential()\n",
    "        model.add(Reshape((5*5*self.n_state,), input_shape=(5,5,2)))\n",
    "        model.add(Dense(24, input_dim=50, activation='relu'))\n",
    "        model.add(Dense(24, activation='relu'))\n",
    "        model.add(Dense(4, activation='linear')) #4 is equal to the number of moves\n",
    "        model.compile(sgd(lr=lr, decay=1e-4, momentum=0.0), \"mse\")\n",
    "        self.model = model"
   ]
  },
  {
   "cell_type": "code",
   "execution_count": 12,
   "metadata": {
    "scrolled": true
   },
   "outputs": [
    {
     "name": "stdout",
     "output_type": "stream",
     "text": [
      "WARNING:tensorflow:Variable *= will be deprecated. Use variable.assign_mul if you want assignment to the variable value or 'x = x * y' if you want a new python Tensor object.\n",
      "Epoch 000/011 | Loss 0.0096 | Win/lose count 5.0/11.0 (-6.0)\n",
      "Epoch 001/011 | Loss 0.0151 | Win/lose count 4.0/3.0 (1.0)\n",
      "Epoch 002/011 | Loss 0.0045 | Win/lose count 5.5/6.0 (-0.5)\n",
      "Epoch 003/011 | Loss 0.0144 | Win/lose count 6.0/4.0 (2.0)\n",
      "Epoch 004/011 | Loss 0.0071 | Win/lose count 3.5/3.0 (0.5)\n",
      "Epoch 005/011 | Loss 0.0096 | Win/lose count 6.0/2.0 (4.0)\n",
      "Epoch 006/011 | Loss 0.0051 | Win/lose count 4.5/2.0 (2.5)\n",
      "Epoch 007/011 | Loss 0.0115 | Win/lose count 2.5/3.0 (-0.5)\n",
      "Epoch 008/011 | Loss 0.0062 | Win/lose count 2.5/1.0 (1.5)\n",
      "Epoch 009/011 | Loss 0.0027 | Win/lose count 3.5/2.0 (1.5)\n",
      "Epoch 010/011 | Loss 0.0120 | Win/lose count 4.0/7.0 (-3.0)\n"
     ]
    },
    {
     "data": {
      "text/html": [
       "<video alt=\"test\" controls>\n",
       "                <source src=\"data:video/mp4;base64,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\" type=\"video/mp4\" />\n",
       "             </video>"
      ],
      "text/plain": [
       "<IPython.core.display.HTML object>"
      ]
     },
     "execution_count": 12,
     "metadata": {},
     "output_type": "execute_result"
    }
   ],
   "source": [
    "env = Environment(grid_size=size, max_time=T, temperature=0.3)\n",
    "agent = DQN_FC(size, lr=.5, epsilon = 0.1, memory_size=2000, batch_size = 64)\n",
    "train(agent, env, epochs_train, prefix='fc_train')\n",
    "HTML(display_videos('fc_train10.mp4'))"
   ]
  },
  {
   "cell_type": "markdown",
   "metadata": {},
   "source": [
    "***\n",
    "***\n",
    "__Question 8__ Implement the DQN training algorithm using a CNN (for example, 2 convolutional layers and one final fully connected layer)."
   ]
  },
  {
   "cell_type": "code",
   "execution_count": 13,
   "metadata": {},
   "outputs": [],
   "source": [
    "class DQN_CNN(DQN):\n",
    "    def __init__(self, *args,lr=0.1,**kwargs):\n",
    "        super(DQN_CNN, self).__init__(*args,**kwargs)\n",
    "        \n",
    "        model = Sequential()\n",
    "        model.add(Conv2D(128, (3, 3), activation='relu', input_shape=(5, 5, self.n_state)))\n",
    "        model.add(Conv2D(128, (3, 3), activation='relu'))\n",
    "        #model.add(MaxPooling2D(pool_size=(1, 1)))\n",
    "        \n",
    "        model.add(Dropout(0.2))\n",
    "        model.add(Flatten())\n",
    "        model.add(Dense(4, activation='linear'))\n",
    "        \n",
    "        model.compile(sgd(lr=lr, decay=1e-4, momentum=0.0), \"mse\")\n",
    "        self.model = model"
   ]
  },
  {
   "cell_type": "code",
   "execution_count": 14,
   "metadata": {},
   "outputs": [
    {
     "name": "stdout",
     "output_type": "stream",
     "text": [
      "Epoch 000/011 | Loss 0.0013 | Win/lose count 2.5/0 (2.5)\n",
      "Epoch 001/011 | Loss 0.0111 | Win/lose count 5.5/9.0 (-3.5)\n",
      "Epoch 002/011 | Loss 0.0018 | Win/lose count 3.0/3.0 (0.0)\n",
      "Epoch 003/011 | Loss 0.0149 | Win/lose count 5.0/4.0 (1.0)\n",
      "Epoch 004/011 | Loss 0.0239 | Win/lose count 5.0/5.0 (0.0)\n",
      "Epoch 005/011 | Loss 0.0159 | Win/lose count 3.5/2.0 (1.5)\n",
      "Epoch 006/011 | Loss 0.0008 | Win/lose count 4.0/3.0 (1.0)\n",
      "Epoch 007/011 | Loss 0.0018 | Win/lose count 6.5/5.0 (1.5)\n",
      "Epoch 008/011 | Loss 0.0018 | Win/lose count 5.0/3.0 (2.0)\n",
      "Epoch 009/011 | Loss 0.0075 | Win/lose count 5.5/1.0 (4.5)\n",
      "Epoch 010/011 | Loss 0.0025 | Win/lose count 2.0/0 (2.0)\n"
     ]
    },
    {
     "data": {
      "text/html": [
       "<video alt=\"test\" controls>\n",
       "                <source src=\"data:video/mp4;base64,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\" type=\"video/mp4\" />\n",
       "             </video>"
      ],
      "text/plain": [
       "<IPython.core.display.HTML object>"
      ]
     },
     "execution_count": 14,
     "metadata": {},
     "output_type": "execute_result"
    }
   ],
   "source": [
    "env = Environment(grid_size=size, max_time=T, temperature=0.3)\n",
    "agent = DQN_CNN(size, lr=.1, epsilon = 0.1, memory_size=2000, batch_size = 32)\n",
    "train(agent,env,epochs_train,prefix='cnn_train')\n",
    "HTML(display_videos('cnn_train10.mp4'))"
   ]
  },
  {
   "cell_type": "markdown",
   "metadata": {},
   "source": [
    "***\n",
    "***\n",
    "__Question 9__ Test both algorithms and compare their performances. Which issue(s) do you observe? Observe also different behaviors by changing the temperature."
   ]
  },
  {
   "cell_type": "code",
   "execution_count": 15,
   "metadata": {},
   "outputs": [
    {
     "name": "stdout",
     "output_type": "stream",
     "text": [
      "Test of the CNN\n",
      "Win/lose count 5.0/5.0. Average score (0.0)\n",
      "Win/lose count 6.5/3.0. Average score (1.75)\n",
      "Win/lose count 2.0/4.0. Average score (0.5)\n",
      "Win/lose count 8.0/4.0. Average score (1.375)\n",
      "Win/lose count 0.5/3.0. Average score (0.6)\n",
      "Win/lose count 3.5/2.0. Average score (0.75)\n",
      "Win/lose count 6.0/3.0. Average score (1.0714285714285714)\n",
      "Win/lose count 2.0/2.0. Average score (0.9375)\n",
      "Win/lose count 3.5/0. Average score (1.2222222222222223)\n",
      "Win/lose count 2.5/1.0. Average score (1.25)\n",
      "Win/lose count 5.5/2.0. Average score (1.4545454545454546)\n",
      "Final score: 1.4545454545454546\n",
      "Test of the FC\n",
      "Win/lose count 5.5/6.0. Average score (-0.5)\n",
      "Win/lose count 5.5/2.0. Average score (1.5)\n",
      "Win/lose count 6.0/4.0. Average score (1.6666666666666667)\n",
      "Win/lose count 5.5/6.0. Average score (1.125)\n",
      "Win/lose count 8.0/8.0. Average score (0.9)\n",
      "Win/lose count 4.0/5.0. Average score (0.5833333333333334)\n",
      "Win/lose count 4.5/3.0. Average score (0.7142857142857143)\n",
      "Win/lose count 4.5/1.0. Average score (1.0625)\n",
      "Win/lose count 2.5/2.0. Average score (1.0)\n",
      "Win/lose count 7.0/7.0. Average score (0.9)\n",
      "Win/lose count 0/3.0. Average score (0.5454545454545454)\n",
      "Final score: 0.5454545454545454\n"
     ]
    }
   ],
   "source": [
    "env = Environment(grid_size=size, max_time=T,temperature=0.3)\n",
    "agent_cnn = DQN_CNN(size, lr=.1, epsilon = 0.1, memory_size=2000, batch_size = 32)\n",
    "agent_cnn.load(name_weights='cnn_trainmodel.h5',name_model='cnn_trainmodel.json')\n",
    "\n",
    "agent_fc = DQN_FC(size, lr=.1, epsilon = 0.1, memory_size=2000, batch_size = 32)\n",
    "agent_fc.load(name_weights='fc_trainmodel.h5',name_model='fc_trainmodel.json')\n",
    "print('Test of the CNN')\n",
    "test(agent_cnn,env,epochs_test,prefix='cnn_test')\n",
    "print('Test of the FC')\n",
    "test(agent_fc,env,epochs_test,prefix='fc_test')"
   ]
  },
  {
   "cell_type": "code",
   "execution_count": 16,
   "metadata": {},
   "outputs": [
    {
     "data": {
      "text/html": [
       "<video alt=\"test\" controls>\n",
       "                <source src=\"data:video/mp4;base64,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\" type=\"video/mp4\" />\n",
       "             </video>"
      ],
      "text/plain": [
       "<IPython.core.display.HTML object>"
      ]
     },
     "execution_count": 16,
     "metadata": {},
     "output_type": "execute_result"
    }
   ],
   "source": [
    "HTML(display_videos('cnn_test10.mp4'))"
   ]
  },
  {
   "cell_type": "code",
   "execution_count": 17,
   "metadata": {},
   "outputs": [
    {
     "data": {
      "text/html": [
       "<video alt=\"test\" controls>\n",
       "                <source src=\"data:video/mp4;base64,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\" type=\"video/mp4\" />\n",
       "             </video>"
      ],
      "text/plain": [
       "<IPython.core.display.HTML object>"
      ]
     },
     "execution_count": 17,
     "metadata": {},
     "output_type": "execute_result"
    }
   ],
   "source": [
    "HTML(display_videos('fc_test10.mp4'))"
   ]
  },
  {
   "cell_type": "markdown",
   "metadata": {},
   "source": [
    "The CNN doesn't explore the map very much, and thus is only trained by a few patterns, which impacts negatively its learning. The fully connected (FC) is better in this situation.\n",
    "\n",
    "When the temperature grows, the score of both models grows as well. The temperature corresponds to the parameter of the binomial distribution which determines the density of poison and cheese on the board. If a poison and a cheese are distributed on the same cell, this cell takes the value 0 (grey). Thus, when the temperature grows, the proportion of cheese and poison items will grow as well, which leads to improved results since a denser board helps the agent train and learn more."
   ]
  },
  {
   "cell_type": "markdown",
   "metadata": {},
   "source": [
    "***\n",
    "\n",
    "The algorithm tends to not explore the map which can be an issue. We propose two ideas in order to encourage exploration:\n",
    "1. Incorporating a decreasing $\\epsilon$-greedy exploration. You can use the method ```set_epsilon```\n",
    "2. Append via the environment a new state that describes if a cell has been visited or not\n",
    "\n",
    "***\n",
    "__Question 10__ Design a new ```train_explore``` function and environment class ```EnvironmentExploring``` to tackle the issue of exploration.\n",
    "\n"
   ]
  },
  {
   "cell_type": "code",
   "execution_count": 19,
   "metadata": {},
   "outputs": [],
   "source": [
    "def train_explore(agent,env,epoch,prefix=''):\n",
    "    # Number of won games\n",
    "    score = 0\n",
    "    loss = 0\n",
    "\n",
    "    for e in range(epoch):\n",
    "        # At each epoch, we restart to a fresh game and get the initial state\n",
    "        state = env.reset()\n",
    "        # This assumes that the games will terminate\n",
    "        game_over = False\n",
    "\n",
    "        win = 0\n",
    "        lose = 0\n",
    "\n",
    "        while not game_over:\n",
    "            \n",
    "            #decrease the value of epsilon\n",
    "            agent.set_epsilon(np.float(agent.get_epsilon())*0.995)\n",
    "            \n",
    "            \n",
    "            # The agent performs an action\n",
    "            action = agent.act(state)\n",
    "\n",
    "            # Apply an action to the environment, get the next state, the reward\n",
    "            # and if the games end\n",
    "            prev_state = state\n",
    "            state, reward, game_over = env.act(action, train=True) #state, reward, game_over = env.act(action)\n",
    "\n",
    "            # Update the counters\n",
    "            if reward > 0:\n",
    "                win = win + reward\n",
    "            if reward < 0:\n",
    "                lose = lose -reward\n",
    "\n",
    "            # Apply the reinforcement strategy\n",
    "            loss = agent.reinforce(prev_state, state,  action, reward, game_over)\n",
    "\n",
    "        # Save as a mp4\n",
    "        if e % 10 == 0:\n",
    "            env.draw(prefix+str(e))\n",
    "\n",
    "        # Update stats\n",
    "        score += win-lose\n",
    "\n",
    "        print(\"Epoch {:03d}/{:03d} | Loss {:.4f} | Win/lose count {}/{} ({})\"\n",
    "              .format(e, epoch, loss, win, lose, win-lose))\n",
    "        agent.save(name_weights=prefix+'model.h5',name_model=prefix+'model.json')\n",
    "        \n",
    "class EnvironmentExploring(Environment):\n",
    "    def __init__(self, grid_size=10, max_time=500, temperature=0.1):\n",
    "        super(EnvironmentExploring, self).__init__(grid_size=10, max_time=500, temperature=0.1)\n",
    "        \n",
    "        grid_size = grid_size+4\n",
    "        self.grid_size = grid_size\n",
    "        self.max_time = max_time\n",
    "        self.temperature = temperature\n",
    "\n",
    "        #board on which one plays\n",
    "        self.board = np.zeros((grid_size,grid_size))\n",
    "        self.position = np.zeros((grid_size,grid_size))\n",
    "\n",
    "        # coordinate of the rat\n",
    "        self.x = 0\n",
    "        self.y = 1\n",
    "\n",
    "        # self time\n",
    "        self.t = 0\n",
    "\n",
    "        self.scale=16\n",
    "\n",
    "        self.to_draw = np.zeros((max_time+2, grid_size*self.scale, grid_size*self.scale, 3))\n",
    "        \n",
    "        self.malus_position = np.zeros((self.grid_size,self.grid_size))\n",
    "        \n",
    "        def draw(self,e):\n",
    "            skvideo.io.vwrite(str(e) + '.mp4', self.to_draw)\n",
    "\n",
    "        def get_frame(self,t):\n",
    "            b = np.zeros((self.grid_size,self.grid_size,3))+128\n",
    "            b[self.board>0,0] = 256\n",
    "            b[self.board < 0, 2] = 256\n",
    "            b[self.x,self.y,:]=256\n",
    "            b[-2:,:,:]=0\n",
    "            b[:,-2:,:]=0\n",
    "            b[:2,:,:]=0\n",
    "            b[:,:2,:]=0\n",
    "        \n",
    "            b =  cv2.resize(b, None, fx=self.scale, fy=self.scale, interpolation=cv2.INTER_NEAREST)\n",
    "\n",
    "            self.to_draw[t,:,:,:]=b\n",
    "            \n",
    "#switch to true so that it would work for test\n",
    "    def act(self, action, train=True):\n",
    "        \"\"\"This function returns the new state, reward and decides if the\n",
    "        game ends.\"\"\"\n",
    "\n",
    "        self.get_frame(int(self.t))\n",
    "\n",
    "        self.position = np.zeros((self.grid_size, self.grid_size))\n",
    "\n",
    "        self.position[0:2,:]= -1\n",
    "        self.position[:,0:2] = -1\n",
    "        self.position[-2:, :] = -1\n",
    "        #error ==> self.position[-2:, :]\n",
    "        self.position[:, -2:] = -1\n",
    "\n",
    "        self.position[self.x, self.y] = 1\n",
    "        if action == 0:\n",
    "            if self.x == self.grid_size-3:\n",
    "                self.x = self.x - 1\n",
    "            else:\n",
    "                self.x = self.x + 1\n",
    "        elif action == 1:\n",
    "            if self.x == 2:\n",
    "                self.x = self.x+1\n",
    "            else:\n",
    "                self.x = self.x-1\n",
    "        elif action == 2:\n",
    "            if self.y == self.grid_size - 3:\n",
    "                self.y = self.y - 1\n",
    "            else:\n",
    "                self.y = self.y + 1\n",
    "        elif action == 3:\n",
    "            if self.y == 2:\n",
    "                self.y = self.y + 1\n",
    "            else:\n",
    "                self.y = self.y - 1\n",
    "        else:\n",
    "            RuntimeError('Error: action not recognized')\n",
    "          \n",
    "        self.t = self.t + 1\n",
    "        reward = 0\n",
    "        \n",
    "        if train:\n",
    "            reward = -self.malus_position[self.x, self.y]\n",
    "            \n",
    "        self.malus_position[self.x, self.y] = 0.01\n",
    "        reward = reward + self.board[self.x, self.y]\n",
    "        self.board[self.x, self.y] = 0\n",
    "        game_over = self.t > self.max_time\n",
    "        \n",
    "        \n",
    "        state = np.concatenate((self.malus_position.reshape(self.grid_size, self.grid_size,1),\n",
    "                                self.board.reshape(self.grid_size, self.grid_size,1),\n",
    "                        self.position.reshape(self.grid_size, self.grid_size,1)),axis=2)\n",
    "        \n",
    "        state = state[self.x-2:self.x+3,self.y-2:self.y+3,:]\n",
    "\n",
    "        return state, reward, game_over\n",
    "\n",
    "    def reset(self):\n",
    "        \"\"\"This function resets the game and returns the initial state\"\"\"\n",
    "\n",
    "        self.x = np.random.randint(3, self.grid_size-3, size=1)[0]\n",
    "        self.y = np.random.randint(3, self.grid_size-3, size=1)[0]\n",
    "\n",
    "\n",
    "        bonus = 0.5*np.random.binomial(1,self.temperature,size=self.grid_size**2)\n",
    "        bonus = bonus.reshape(self.grid_size,self.grid_size)\n",
    "\n",
    "        malus = -1.0*np.random.binomial(1,self.temperature,size=self.grid_size**2)\n",
    "        malus = malus.reshape(self.grid_size, self.grid_size)\n",
    "\n",
    "        self.to_draw = np.zeros((self.max_time+2, self.grid_size*self.scale, self.grid_size*self.scale, 3))\n",
    "\n",
    "\n",
    "        malus[bonus>0]=0\n",
    "\n",
    "        self.board = bonus + malus\n",
    "\n",
    "        self.position = np.zeros((self.grid_size, self.grid_size))\n",
    "        self.position[0:2,:]= -1\n",
    "        self.position[:,0:2] = -1\n",
    "        self.position[-2:, :] = -1\n",
    "        self.position[-2:, :] = -1\n",
    "        self.board[self.x,self.y] = 0\n",
    "        self.t = 0\n",
    "\n",
    "        state = np.concatenate((self.malus_position.reshape(self.grid_size, self.grid_size,1),\n",
    "                                self.board.reshape(self.grid_size, self.grid_size,1),\n",
    "                        self.position.reshape(self.grid_size, self.grid_size,1)),axis=2)\n",
    "\n",
    "        state = state[self.x - 2:self.x + 3, self.y - 2:self.y + 3, :]\n",
    "        return state"
   ]
  },
  {
   "cell_type": "code",
   "execution_count": 20,
   "metadata": {},
   "outputs": [
    {
     "name": "stdout",
     "output_type": "stream",
     "text": [
      "Epoch 000/011 | Loss 0.0106 | Win/lose count 11.5/12.389999999999977 (-0.8899999999999775)\n",
      "Epoch 001/011 | Loss 0.0072 | Win/lose count 4.98/4.809999999999963 (0.17000000000003723)\n",
      "Epoch 002/011 | Loss 0.0050 | Win/lose count 6.880000000000002/6.849999999999979 (0.030000000000022453)\n",
      "Epoch 003/011 | Loss 0.0118 | Win/lose count 2.48/2.8399999999999848 (-0.3599999999999848)\n",
      "Epoch 004/011 | Loss 0.0031 | Win/lose count 1.47/1.9800000000000015 (-0.5100000000000016)\n",
      "Epoch 005/011 | Loss 0.0086 | Win/lose count 1.49/1.9600000000000015 (-0.4700000000000015)\n",
      "Epoch 006/011 | Loss 0.0017 | Win/lose count 4.430000000000001/1.8800000000000014 (2.549999999999999)\n",
      "Epoch 007/011 | Loss 0.0168 | Win/lose count 3.9400000000000004/4.929999999999961 (-0.9899999999999602)\n",
      "Epoch 008/011 | Loss 0.0067 | Win/lose count 3.45/1.9400000000000015 (1.5099999999999987)\n",
      "Epoch 009/011 | Loss 0.0098 | Win/lose count 0.49/2.0000000000000013 (-1.5100000000000013)\n",
      "Epoch 010/011 | Loss 0.0012 | Win/lose count 4.410000000000001/2.919999999999981 (1.4900000000000202)\n"
     ]
    },
    {
     "data": {
      "text/html": [
       "<video alt=\"test\" controls>\n",
       "                <source src=\"data:video/mp4;base64,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\" type=\"video/mp4\" />\n",
       "             </video>"
      ],
      "text/plain": [
       "<IPython.core.display.HTML object>"
      ]
     },
     "execution_count": 20,
     "metadata": {},
     "output_type": "execute_result"
    }
   ],
   "source": [
    "# Training\n",
    "env = EnvironmentExploring(grid_size=size, max_time=T, temperature=0.3)\n",
    "agent = DQN_CNN(size, lr=.1, epsilon = 1, memory_size=2000, batch_size = 32,n_state=3)\n",
    "train_explore(agent, env, epochs_train, prefix='cnn_train_explore')\n",
    "HTML(display_videos('cnn_train_explore10.mp4'))"
   ]
  },
  {
   "cell_type": "code",
   "execution_count": 21,
   "metadata": {},
   "outputs": [
    {
     "name": "stdout",
     "output_type": "stream",
     "text": [
      "Win/lose count 0.98/1.9800000000000015. Average score (-1.0000000000000016)\n",
      "Win/lose count 6.880000000000002/1.8700000000000014. Average score (2.004999999999999)\n",
      "Win/lose count 6.370000000000002/2.8799999999999817. Average score (2.5000000000000058)\n",
      "Win/lose count 0.98/1.9900000000000015. Average score (1.622500000000004)\n",
      "Win/lose count 0.98/4.989999999999961. Average score (0.4960000000000111)\n",
      "Win/lose count 2.45/1.9600000000000015. Average score (0.495000000000009)\n",
      "Win/lose count 0.49/2.0000000000000013. Average score (0.20857142857143612)\n",
      "Win/lose count 2.9400000000000004/2.9499999999999806. Average score (0.18125000000000913)\n",
      "Win/lose count 1.47/1.9800000000000015. Average score (0.10444444444445236)\n",
      "Win/lose count 0.98/1.9900000000000015. Average score (-0.006999999999993034)\n",
      "Win/lose count 2.45/1.9600000000000015. Average score (0.038181818181824416)\n",
      "Final score: 0.038181818181824416\n"
     ]
    },
    {
     "data": {
      "text/html": [
       "<video alt=\"test\" controls>\n",
       "                <source src=\"data:video/mp4;base64,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\" type=\"video/mp4\" />\n",
       "             </video>"
      ],
      "text/plain": [
       "<IPython.core.display.HTML object>"
      ]
     },
     "execution_count": 21,
     "metadata": {},
     "output_type": "execute_result"
    }
   ],
   "source": [
    "# Evaluation\n",
    "test(agent,env,epochs_test,prefix='cnn_test_explore')\n",
    "HTML(display_videos('cnn_test_explore10.mp4'))"
   ]
  },
  {
   "cell_type": "markdown",
   "metadata": {},
   "source": [
    "***\n",
    "***\n",
    "__BONUS question__ Use the expert DQN from the previous question to generate some winning games. Train a model that mimicks its behavior. Compare the performances."
   ]
  },
  {
   "cell_type": "markdown",
   "metadata": {},
   "source": []
  },
  {
   "cell_type": "markdown",
   "metadata": {},
   "source": [
    "***"
   ]
  }
 ],
 "metadata": {
  "kernelspec": {
   "display_name": "Python 3",
   "language": "python",
   "name": "python3"
  },
  "language_info": {
   "codemirror_mode": {
    "name": "ipython",
    "version": 3
   },
   "file_extension": ".py",
   "mimetype": "text/x-python",
   "name": "python",
   "nbconvert_exporter": "python",
   "pygments_lexer": "ipython3",
   "version": "3.6.3"
  }
 },
 "nbformat": 4,
 "nbformat_minor": 2
}
