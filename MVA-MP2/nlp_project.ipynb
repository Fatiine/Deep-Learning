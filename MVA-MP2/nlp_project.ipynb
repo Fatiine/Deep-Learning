{
 "cells": [
  {
   "cell_type": "markdown",
   "metadata": {},
   "source": [
    "# Deep Learning for NLP - Project"
   ]
  },
  {
   "cell_type": "markdown",
   "metadata": {},
   "source": [
    "RULES:\n",
    "\n",
    "* Do not create any additional cell\n",
    "\n",
    "* Fill in the blanks\n",
    "\n",
    "* All cells should be runnable (modulo trivial compatibility bugs that we'd fix)\n",
    "\n",
    "* 4 / 20 points will be allocated to the clarity of your code\n",
    "\n",
    "* Efficient code will have a bonus\n",
    "\n",
    "DELIVERABLE:\n",
    "\n",
    "* this notebook\n",
    "* the predictions of the SST test set\n",
    "\n",
    "DO NOT INCLUDE THE DATASETS IN THE DELIVERABLE.."
   ]
  },
  {
   "cell_type": "code",
   "execution_count": 66,
   "metadata": {},
   "outputs": [],
   "source": [
    "import io\n",
    "import os\n",
    "import numpy as np\n",
    "import scipy\n",
    "from operator import itemgetter"
   ]
  },
  {
   "cell_type": "code",
   "execution_count": 67,
   "metadata": {},
   "outputs": [],
   "source": [
    "PATH_TO_DATA = \"./data/\""
   ]
  },
  {
   "cell_type": "markdown",
   "metadata": {},
   "source": [
    "# 1) Monolingual (English) word embeddings "
   ]
  },
  {
   "cell_type": "code",
   "execution_count": 68,
   "metadata": {},
   "outputs": [],
   "source": [
    "class Word2vec():\n",
    "    def __init__(self, fname, nmax=100000):\n",
    "        self.load_wordvec(fname, nmax)\n",
    "        self.word2id = dict.fromkeys(self.word2vec.keys())\n",
    "        self.id2word = {v: k for k, v in self.word2id.items()}\n",
    "        self.embeddings = np.array(self.word2vec.values())\n",
    "    \n",
    "    def load_wordvec(self, fname, nmax):\n",
    "        self.word2vec = {}\n",
    "        with io.open(fname, encoding='utf-8') as f:\n",
    "            next(f)\n",
    "            for i, line in enumerate(f):\n",
    "                word, vec = line.split(' ', 1)\n",
    "                self.word2vec[word] = np.fromstring(vec, sep=' ')\n",
    "                if i == (nmax - 1):\n",
    "                    break\n",
    "        print('Loaded %s pretrained word vectors' % (len(self.word2vec)))\n",
    "\n",
    "    def most_similar(self, w, K=5):\n",
    "        if w not in self.word2vec:\n",
    "            return []\n",
    "    \n",
    "        sim = [(k, self.score(w, k)) for k in self.word2vec.keys() if w!=k]\n",
    "        \n",
    "        return sorted(sim, key=itemgetter(1))[::-1][:K]\n",
    "    \n",
    "\n",
    "    def score(self, w1, w2):\n",
    "        if w1 not in self.word2vec or w2 not in self.word2vec:    #added after 'Berlin' returned error\n",
    "            return 0\n",
    "        \n",
    "        v1 = self.word2vec[w1] #w1 vector embedding\n",
    "        v2 = self.word2vec[w2] #w2 vector embedding\n",
    "        \n",
    "        return np.dot(v1, v2) / (np.linalg.norm(v1) * np.linalg.norm(v2))"
   ]
  },
  {
   "cell_type": "code",
   "execution_count": 69,
   "metadata": {},
   "outputs": [
    {
     "name": "stdout",
     "output_type": "stream",
     "text": [
      "Loaded 100000 pretrained word vectors\n",
      "cat dog 0.6716836662792491\n",
      "dog pet 0.6842064029669219\n",
      "dogs cats 0.7074389328052404\n",
      "paris france 0.7775108541288561\n",
      "germany berlin 0.7420295235998392\n",
      "[('cats', 0.8353184714264996), ('kitty', 0.8034410478493816), ('kitten', 0.8024762062392744), ('feline', 0.7680654076911861), ('kitties', 0.7237089223394709)]\n",
      "[('dogs', 0.855207916336258), ('puppy', 0.784569427961543), ('Dog', 0.7511571638004245), ('doggie', 0.7442413357176719), ('canine', 0.7421250622701409)]\n",
      "[('dog', 0.855207916336258), ('pooches', 0.7712664737679777), ('Dogs', 0.7704396457434113), ('doggies', 0.7699192773615036), ('canines', 0.7527040042648148)]\n",
      "[('france', 0.7775108541288561), ('Paris', 0.6845140397494099), ('london', 0.6728545431461278), ('berlin', 0.6424447628126261), ('tokyo', 0.6409621495653873)]\n",
      "[('austria', 0.7687671987529505), ('europe', 0.7597591231074469), ('german', 0.7445826305760618), ('berlin', 0.7420295235998392), ('poland', 0.7236705657279862)]\n"
     ]
    }
   ],
   "source": [
    "w2v = Word2vec(os.path.join(PATH_TO_DATA, 'crawl-300d-200k.vec'), nmax=100000)\n",
    "\n",
    "# You will be evaluated on the output of the following:\n",
    "for w1, w2 in zip(('cat', 'dog', 'dogs', 'paris', 'germany'), ('dog', 'pet', 'cats', 'france', 'berlin')):\n",
    "    print(w1, w2, w2v.score(w1, w2))\n",
    "for w1 in ['cat', 'dog', 'dogs', 'paris', 'germany']:\n",
    "    print(w2v.most_similar(w1))"
   ]
  },
  {
   "cell_type": "code",
   "execution_count": 70,
   "metadata": {},
   "outputs": [],
   "source": [
    "class BoV():\n",
    "    def __init__(self, w2v):\n",
    "        self.w2v = w2v\n",
    "    \n",
    "    def encode(self, sentences, idf=False):\n",
    "        # takes a list of sentences, outputs a numpy array of sentence embeddings\n",
    "        # see TP1 for help\n",
    "        sentemb = []\n",
    "        for sent in sentences:\n",
    "            words = sent.split(' ')\n",
    "            vec_list = []\n",
    "            \n",
    "            for i in range(len(words)):\n",
    "                \n",
    "                # Skip words without embeddings\n",
    "                if words[i] not in self.w2v.word2vec:\n",
    "                    continue\n",
    "                \n",
    "                # Get the right vector and idf-weight it or no\n",
    "                if words[i] in self.w2v.word2vec:\n",
    "                    vec = self.w2v.word2vec[words[i]]\n",
    "                    \n",
    "                if idf is False:\n",
    "                    # normal mean\n",
    "                    vec_list.append(vec)\n",
    "                \n",
    "                else:\n",
    "                    # idf-weighted mean\n",
    "                    idf_w = 1\n",
    "                    if words[i] in idf:\n",
    "                        idf_val = max(1, np.log10(len(sentences) / (idf[words[i]])))\n",
    "                    vec_list.append(vec * idf_w)\n",
    "                \n",
    "            # Take average of final word vectors\n",
    "            vec_sent = np.mean(np.array(vec_list), axis=0)\n",
    "            sentemb.append(vec_sent)\n",
    "                \n",
    "        return np.vstack(sentemb)\n",
    "\n",
    "    def most_similar(self, s, sentences, idf=False, K=5):\n",
    "        # get most similar sentences and **print** them\n",
    "        keys = self.encode(sentences, idf)\n",
    "        query = self.encode([s], idf)\n",
    "        \n",
    "        # Score/sentences\n",
    "        sent_score = np.array([self.vector_score(query[0], x) for x in keys])\n",
    "\n",
    "        # Sort the scores per descendin order\n",
    "        top_k = sent_score.argsort()[::-1][1:K+1]\n",
    "        \n",
    "        # Return k most similar\n",
    "        return [sentences[i] for i in top_k]\n",
    "\n",
    "    def score(self, s1, s2, idf=False):\n",
    "        S1_v = self.encode([s1], idf=idf)\n",
    "        S2_v = self.encode([s2], idf=idf)\n",
    "        \n",
    "        return self.vector_score(S1_v[0], S2_v[0])\n",
    "    \n",
    "    def vector_score(self, S1_v, S2_v):\n",
    "        return np.dot(S1_v, S2_v) / (np.linalg.norm(S1_v) * np.linalg.norm(S2_v))\n",
    "    \n",
    "    def build_idf(self, sentences):\n",
    "        # build the idf dictionary: associate each word to its idf value\n",
    "        idf = {}\n",
    "        for sent in sentences:\n",
    "            for w in set(sent):\n",
    "                idf[w] = idf.get(w, 0) + 1\n",
    "        return idf"
   ]
  },
  {
   "cell_type": "code",
   "execution_count": 71,
   "metadata": {},
   "outputs": [],
   "source": [
    "class BoV():\n",
    "    def __init__(self, w2v):\n",
    "        self.w2v = w2v\n",
    "    \n",
    "    def encode(self, sentences, idf=False):\n",
    "        # takes a list of sentences, outputs a numpy array of sentence embeddings\n",
    "        # see TP1 for help\n",
    "        sent_embed = []\n",
    "        for sent in sentences:\n",
    "            w = sent.split(' ')\n",
    "            w_vecs = []\n",
    "            for i in range(len(w)):\n",
    "                \n",
    "                if w[i] in self.w2v.word2vec:          \n",
    "                    # mean of word vectors\n",
    "                    w_vec = self.w2v.word2vec[w[i]]\n",
    "                if idf is False:\n",
    "                    w_vecs.append(w_vec)\n",
    "                    \n",
    "                # idf-weighted mean of word vectors    \n",
    "                else:\n",
    "                    val_idf = 1\n",
    "                    if w[i] in idf:\n",
    "                        val_idf = max(1, np.log10(len(sentences) / (idf[w[i]])))\n",
    "                    w_vecs.append(w_vec*val_idf)\n",
    "                \n",
    "            # Taking the mean of the word vectors in the senctences\n",
    "            sent_vec = np.mean(np.array(w_vecs), axis = 0)\n",
    "            sent_embed.append(sent_vec)\n",
    "            \n",
    "        return np.vstack(sent_embed)\n",
    "    \n",
    "    def most_similar(self, s, sentences, idf=False, K=5):\n",
    "        # get most similar sentences and **print** them\n",
    "        keys = self.encode(sentences, idf)\n",
    "        query = self.encode([s], idf)\n",
    "        \n",
    "        idf_score = np.array([self.score_vecs(query[0], x) for x in keys])\n",
    "        top_idx = idf_score.argsort()[::-1][:K]\n",
    "        print ([sentences[i] for i in top_idx])\n",
    "#         return [sentences[i] for i in top]\n",
    "        pass        \n",
    "    \n",
    "    def score(self, s1, s2, idf=False):\n",
    "        # cosine similarity: use   np.dot  and  np.linalg.norm\n",
    "        s1_vec = self.encode([s1], idf=idf)\n",
    "        s2_vec = self.encode([s2], idf=idf)\n",
    "        return self.score_vecs(s1_vec[0], s2_vec[0])\n",
    "    \n",
    "    def score_vecs(self, s1_vec, s2_vec):\n",
    "        return np.dot(s1_vec,s2_vec) / (np.linalg.norm(s1_vec) * np.linalg.norm(s2_vec))\n",
    " \n",
    "    def build_idf(self, sentences):\n",
    "        # build the idf dictionary: associate each word to its idf value\n",
    "        idf = {}\n",
    "        for sent in sentences:\n",
    "            for w in set(sent):\n",
    "                idf[w] = idf.get(w, 0) + 1\n",
    "        return idf"
   ]
  },
  {
   "cell_type": "code",
   "execution_count": 72,
   "metadata": {},
   "outputs": [
    {
     "name": "stdout",
     "output_type": "stream",
     "text": [
      "Loaded 50000 pretrained word vectors\n",
      "['1 smiling african american boy .', 'an african american man smiling .', 'a little african american boy and girl looking up .', 'an african american man is sitting .', 'a girl in black hat holding an african american baby .']\n",
      "None\n",
      "0.551668865217505\n",
      "['1 smiling african american boy .', 'an african american man smiling .', 'a little african american boy and girl looking up .', 'an african american man is sitting .', 'a girl in black hat holding an african american baby .']\n",
      "None\n",
      "0.551668865217505\n"
     ]
    }
   ],
   "source": [
    "w2v = Word2vec(os.path.join(PATH_TO_DATA, 'crawl-300d-200k.vec'), nmax=50000)\n",
    "s2v = BoV(w2v)\n",
    "\n",
    "# Load sentences in \"PATH_TO_DATA/sentences.txt\"\n",
    "sentences = []\n",
    "with open(PATH_TO_DATA + '/sentences.txt') as f:\n",
    "    sentences = [s.strip() for s in f.readlines()]\n",
    "\n",
    "# Build idf scores for each word\n",
    "idf = s2v.build_idf(sentences)\n",
    "\n",
    "# You will be evaluated on the output of the following:\n",
    "print(s2v.most_similar('' if not sentences else sentences[10], sentences))  # BoV-mean\n",
    "print(s2v.score('' if not sentences else sentences[7], '' if not sentences else sentences[13]))\n",
    "\n",
    "print(s2v.most_similar('' if not sentences else sentences[10], sentences, idf))  # BoV-idf\n",
    "print(s2v.score('' if not sentences else sentences[7], '' if not sentences else sentences[13], idf))"
   ]
  },
  {
   "cell_type": "markdown",
   "metadata": {},
   "source": [
    "# 2) Multilingual (English-French) word embeddings"
   ]
  },
  {
   "cell_type": "markdown",
   "metadata": {},
   "source": [
    "Let's consider a bilingual dictionary of size V_a (e.g French-English).\n",
    "\n",
    "Let's define **X** and **Y** the **French** and **English** matrices.\n",
    "\n",
    "They contain the embeddings associated to the words in the bilingual dictionary.\n",
    "\n",
    "We want to find a **mapping W** that will project the source word space (e.g French) to the target word space (e.g English).\n",
    "\n",
    "Procrustes : **W\\* = argmin || W.X - Y ||  s.t  W^T.W = Id**\n",
    "has a closed form solution:\n",
    "**W = U.V^T  where  U.Sig.V^T = SVD(Y.X^T)**\n",
    "\n",
    "In what follows, you are asked to: "
   ]
  },
  {
   "cell_type": "code",
   "execution_count": 73,
   "metadata": {},
   "outputs": [
    {
     "name": "stdout",
     "output_type": "stream",
     "text": [
      "Loaded 10000 pretrained word vectors\n",
      "Loaded 10000 pretrained word vectors\n"
     ]
    }
   ],
   "source": [
    "# 1 - Download and load 50k first vectors of\n",
    "######## change to 10k vectors, my MacBook Air was crashing with 50k ###########\n",
    "\n",
    "#     https://s3-us-west-1.amazonaws.com/fasttext-vectors/wiki.en.vec\n",
    "#     https://s3-us-west-1.amazonaws.com/fasttext-vectors/wiki.fr.vec\n",
    "\n",
    "w2v_en = Word2vec(os.path.join(PATH_TO_DATA, 'wiki.en.vec'), nmax=10000)\n",
    "w2v_fr = Word2vec(os.path.join(PATH_TO_DATA, 'wiki.fr.vec'), nmax=10000)"
   ]
  },
  {
   "cell_type": "code",
   "execution_count": 74,
   "metadata": {},
   "outputs": [],
   "source": [
    "# 2 - Get words that appear in both vocabs (= identical character strings)\n",
    "#     Use it to create the matrix X and Y (of aligned embeddings for these words)\n",
    "\n",
    "\n",
    "words_en = []\n",
    "words_fr = []\n",
    "words_map = []\n",
    "\n",
    "\n",
    "#EN tokens\n",
    "for word in w2v_en.word2id:\n",
    "    words_en.append(word)\n",
    "\n",
    "#FR tokens\n",
    "for word in w2v_fr.word2id:\n",
    "    words_fr.append(word)\n",
    "\n",
    "#Similar tokens\n",
    "for word in words_en:\n",
    "    if word in words_fr:\n",
    "        words_map.append(word)\n",
    "\n",
    "#Initialize matrices\n",
    "X = np.zeros((len(words_map), 300))\n",
    "Y = np.zeros((len(words_map), 300))\n",
    "\n",
    "#Matrix for French tokens\n",
    "for i in range(len(words_map)):\n",
    "    if words_map[i] in w2v_fr.word2id:\n",
    "        X[i] = w2v_fr.word2vec[words_map[i]]\n",
    "    else:\n",
    "        X[i] = np.zeros(300)\n",
    "\n",
    "#Matrix for English tokens\n",
    "for i in range(len(words_map)):\n",
    "    if words_map[i] in w2v_en.word2id:\n",
    "        Y[i] = w2v_en.word2vec[words_map[i]]\n",
    "    else:\n",
    "        Y[i] = np.zeros(300)\n",
    "        "
   ]
  },
  {
   "cell_type": "code",
   "execution_count": 75,
   "metadata": {},
   "outputs": [],
   "source": [
    "# 2 - Get words that appear in both vocabs (= identical character strings)\n",
    "#     Use it to create the matrix X and Y (of aligned embeddings for these words)\n",
    "\n",
    "# TYPE CODE HERE\n",
    "# Getting the tokens - EN\n",
    "w_en = []\n",
    "for word in w2v_en.word2id:\n",
    "    w_en.append(word)\n",
    "\n",
    "# Getting the tokens - FR\n",
    "w_fr = []\n",
    "for word in w2v_fr.word2id:\n",
    "    w_fr.append(word)\n",
    "\n",
    "# Identical character strings\n",
    "w_sim = []\n",
    "for w in w_en:\n",
    "    if w in w_fr:\n",
    "        w_sim.append(w)\n",
    "\n",
    "# French matrix\n",
    "X = np.zeros((len(w_sim), 300))\n",
    "for i in range(len(w_sim)):\n",
    "    if w_sim[i] in w2v_fr.word2id:\n",
    "        X[i] = w2v_fr.word2vec[w_sim[i]]\n",
    "    else:\n",
    "        X[i] = np.zeros(300)\n",
    "\n",
    "# English matrix\n",
    "Y = np.zeros((len(w_sim), 300))\n",
    "for i in range(len(w_sim)):\n",
    "    if w_sim[i] in w2v_en.word2id:\n",
    "        Y[i] = w2v_en.word2vec[w_sim[i]]\n",
    "    else:\n",
    "        Y[i] = np.zeros(300)"
   ]
  },
  {
   "cell_type": "code",
   "execution_count": 76,
   "metadata": {},
   "outputs": [],
   "source": [
    "# 3 - Solve the Procrustes using the scipy package and: scipy.linalg.svd() and get the optimal W\n",
    "#     Now W*French_vector is in the same space as English_vector\n",
    "from scipy import linalg\n",
    "\n",
    "U, S, V_t = scipy.linalg.svd(np.matmul(Y, X.transpose()))\n",
    "W = np.matmul(U, V_t)"
   ]
  },
  {
   "cell_type": "code",
   "execution_count": 84,
   "metadata": {},
   "outputs": [
    {
     "name": "stdout",
     "output_type": "stream",
     "text": [
      "--------------- French to English -----------------\n",
      "amour ['love', 'loving', 'loved', 'happiness', 'lovers']\n",
      "enfant ['child', 'infant', 'mother', 'parents', 'childhood']\n",
      "bleu ['blue', 'yellow', 'purple', 'red', 'orange']\n",
      "--------------- English to French -----------------\n",
      "love ['amour', 'aimer', 'amoureuse', 'amoureux', 'chante']\n",
      "children ['enfants', 'enfant', 'filles', 'parents', 'sœurs']\n",
      "blue ['blue', 'red', 'bleu', 'orange', 'black']\n"
     ]
    }
   ],
   "source": [
    "# 4 - After alignment with W, give examples of English nearest neighbors of some French words (and vice versa)\n",
    "#     You will be evaluated on that part and the code above\n",
    "\n",
    "Y_newspace = np.matmul(W, X)\n",
    "X_newspace = np.matmul(W.transpose(), Y)\n",
    "\n",
    "def fr_to_en(src_word, k=5):\n",
    "    \n",
    "    neighbors = {}\n",
    "    \n",
    "    if src_word in w2v_fr.word2vec:\n",
    "        for i in w2v_en.word2vec.keys():\n",
    "            tgt = np.matmul(Y, w2v_en.word2vec[i])\n",
    "            src = np.matmul(X_newspace, w2v_fr.word2vec[src_word])\n",
    "            neighbors[i] = np.dot(tgt, src)/(np.linalg.norm(tgt)*np.linalg.norm(src))\n",
    "\n",
    "    else:\n",
    "        return []\n",
    "    \n",
    "    k_nn = []\n",
    "    for i in range(k):\n",
    "        k_nn.append(max(neighbors, key=neighbors.get))\n",
    "        del neighbors[max(neighbors, key=neighbors.get)]\n",
    "        \n",
    "    return k_nn\n",
    "\n",
    "def en_to_fr(src_word, k=5):\n",
    "    neighbors = {}\n",
    "    \n",
    "    if src_word in w2v_en.word2vec:\n",
    "         for i in w2v_fr.word2vec.keys():\n",
    "            tgt = np.matmul(X, w2v_fr.word2vec[i])\n",
    "            src = np.matmul(Y_newspace, w2v_en.word2vec[src_word])\n",
    "            neighbors[i] = np.dot(tgt, src)/(np.linalg.norm(tgt)*np.linalg.norm(src))\n",
    "    else:\n",
    "        return []   \n",
    "    \n",
    "    k_nn = []\n",
    "    for i in range(k):\n",
    "        k_nn.append(max(neighbors, key=neighbors.get))\n",
    "        del neighbors[max(neighbors, key=neighbors.get)]\n",
    "        \n",
    "    return k_nn\n",
    "\n",
    "words_list_fr = ['amour', 'enfant', 'bleu']\n",
    "\n",
    "print('--------------- French to English -----------------')\n",
    "for mot in words_list_fr:\n",
    "    print (mot, fr_to_en(mot, 5))\n",
    "    \n",
    "words_list_en = ['love', 'children', 'blue']\n",
    "\n",
    "print('--------------- English to French -----------------')\n",
    "for word in words_list_en:\n",
    "    print (word, en_to_fr(word, 5))"
   ]
  },
  {
   "cell_type": "markdown",
   "metadata": {},
   "source": [
    "If you want to dive deeper on this subject: https://github.com/facebookresearch/MUSE"
   ]
  },
  {
   "cell_type": "markdown",
   "metadata": {},
   "source": [
    "# 3) Sentence classification with BoV and scikit-learn"
   ]
  },
  {
   "cell_type": "code",
   "execution_count": 86,
   "metadata": {},
   "outputs": [],
   "source": [
    "# 1 - Load train/dev/test of Stanford Sentiment TreeBank (SST)\n",
    "#     (https://nlp.stanford.edu/~socherr/EMNLP2013_RNTN.pdf)\n",
    "\n",
    "def load_data(file):\n",
    "    x = []\n",
    "    y = []\n",
    "    with open(PATH_TO_DATA + file) as f:\n",
    "        for l in f.readlines():\n",
    "            i, b = l.strip().split(' ', 1)\n",
    "            y.append(int(i))\n",
    "            x.append(b)\n",
    "    return x, y\n",
    "        \n",
    "        \n",
    "X_train_, y_train = load_data('SST/stsa.fine.train')\n",
    "X_dev_, y_dev = load_data('SST/stsa.fine.dev')\n",
    "\n",
    "\n",
    "X_test_ = []\n",
    "with open(PATH_TO_DATA + 'SST/stsa.fine.test.X') as f:\n",
    "    for l in f.readlines():\n",
    "        i, b = l.strip().split(' ', 1)\n",
    "        X_test_.append(b)"
   ]
  },
  {
   "cell_type": "code",
   "execution_count": 88,
   "metadata": {},
   "outputs": [
    {
     "name": "stdout",
     "output_type": "stream",
     "text": [
      "Loaded 50000 pretrained word vectors\n"
     ]
    }
   ],
   "source": [
    "# 2 - Encode sentences with the BoV model above\n",
    "w2v = Word2vec(os.path.join(PATH_TO_DATA, 'crawl-300d-200k.vec'), nmax=50000)\n",
    "s2v = BoV(w2v)\n",
    "\n",
    "X_train = s2v.encode(X_train_, idf=False)\n",
    "X_dev = s2v.encode(X_dev_, idf=False)\n",
    "X_test = s2v.encode(X_test_, idf=False)\n",
    "\n",
    "X_train_idf = s2v.encode(X_train_, idf=idf)\n",
    "X_dev_idf = s2v.encode(X_dev_, idf=idf)\n",
    "X_test_idf = s2v.encode(X_test_, idf=idf)"
   ]
  },
  {
   "cell_type": "code",
   "execution_count": 91,
   "metadata": {},
   "outputs": [
    {
     "name": "stdout",
     "output_type": "stream",
     "text": [
      "Accuracy: 0.4259763851044505\n",
      "Final accuracy: 0.4296094459582198\n",
      "Accuracy idf: 0.4250681198910082\n",
      "Final accuracy with idf: 0.4250681198910082\n"
     ]
    }
   ],
   "source": [
    "# 3 - Learn Logistic Regression on top of sentence embeddings using scikit-learn\n",
    "#     (consider tuning the L2 regularization on the dev set)\n",
    "\n",
    "from sklearn.linear_model import LogisticRegression\n",
    "from sklearn.metrics import confusion_matrix, mean_squared_error\n",
    "from sklearn.grid_search import GridSearchCV\n",
    "\n",
    "############################### WITHOUT IDF ######################################\n",
    "# Instantiate a logistic regression classifier    \n",
    "lg = LogisticRegression()\n",
    "lg.fit(X_train, y_train)\n",
    "print('Accuracy: ' + str(lg.score(X_dev, y_dev)))\n",
    "\n",
    "\n",
    "# Setup the hyperparameter grid\n",
    "c_space = np.logspace(-5, 8, 15)\n",
    "param_grid = {'C': c_space}\n",
    "\n",
    "# Instantiate the GridSearchCV object:\n",
    "lg_cv = GridSearchCV(lg, param_grid, cv=5)\n",
    "lg_cv.fit(X_train, y_train)\n",
    "\n",
    "#best parameters and score after hyperparameter tuning:\n",
    "#best_params : 'C': 0.4393970560760795\n",
    "#best_score : 0.4330524344569288\n",
    "\n",
    "lg_tuned = LogisticRegression(penalty = 'l2', C = 0.4393970560760795)\n",
    "lg_tuned.fit(X_train, y_train)\n",
    "\n",
    "#Measure accuracy\n",
    "score = lg_tuned.score(X_dev, y_dev)\n",
    "print(\"Final accuracy: \" + format(score))\n",
    "\n",
    "############################### WITH IDF ######################################\n",
    "\n",
    "# Instantiate a logistic regression classifier\n",
    "lg_idf = LogisticRegression()\n",
    "lg_idf.fit(X_train_idf, y_train)\n",
    "print('Accuracy idf: ' + str(lg_idf.score(X_dev_idf, y_dev)))\n",
    "\n",
    "\n",
    "# Setup the hyperparameter grid\n",
    "c_space = np.logspace(-5, 8, 15)\n",
    "param_grid = {'C': c_space}\n",
    "\n",
    "# Instantiate the GridSearchCV object:\n",
    "lg_cv_idf = GridSearchCV(lg_idf, param_grid, cv=5)\n",
    "lg_cv_idf.fit(X_train_idf, y_train)\n",
    "\n",
    "#best parameters and score after hyperparameter tuning:\n",
    "#best_params : 'C': 0.4393970560760795\n",
    "#best_score : 0.4330524344569288\n",
    "\n",
    "lg_tuned_idf = LogisticRegression(penalty = 'l2', C = 0.4393970560760795)\n",
    "lg_tuned_idf.fit(X_train_idf, y_train)\n",
    "\n",
    "#Measure accuracy\n",
    "score_idf = lg_tuned_idf.score(X_dev_idf, y_dev)\n",
    "print(\"Final accuracy with idf: \" + format(score_idf))"
   ]
  },
  {
   "cell_type": "code",
   "execution_count": 92,
   "metadata": {},
   "outputs": [],
   "source": [
    "# 4 - Produce 2210 predictions for the test set (in the same order). One line = one prediction (=0,1,2,3,4).\n",
    "#     Attach the output file \"logreg_bov_y_test_sst.txt\" to your deliverable.\n",
    "#     You will be evaluated on the results of the test set.\n",
    "\n",
    "#Prediction for test set\n",
    "y_pred_test = lg_tuned.predict(X_test)\n",
    "\n",
    "def generate_pred(file):\n",
    "    f=open(file, 'w')  \n",
    "    \n",
    "#iterate over the 2210 lines of y_pred_test\n",
    "    for i in range(2210):\n",
    "        f.write(str(y_pred_test[i]))                   \n",
    "    f.close()\n",
    "    \n",
    "generate_pred('logreg_bov_y_test_sst.txt')"
   ]
  },
  {
   "cell_type": "code",
   "execution_count": 93,
   "metadata": {},
   "outputs": [
    {
     "name": "stdout",
     "output_type": "stream",
     "text": [
      "LDA: 0.416894\n",
      "KNN: 0.318801\n",
      "CART: 0.258856\n",
      "NB: 0.383288\n",
      "SVM: 0.270663\n"
     ]
    }
   ],
   "source": [
    "# BONUS!\n",
    "# 5 - Try to improve performance with another classifier\n",
    "#     Attach the output file \"XXX_bov_y_test_sst.txt\" to your deliverable (where XXX = the name of the classifier)\n",
    "\n",
    "from sklearn import model_selection\n",
    "from sklearn.tree import DecisionTreeClassifier\n",
    "from sklearn.neighbors import KNeighborsClassifier\n",
    "from sklearn.discriminant_analysis import LinearDiscriminantAnalysis\n",
    "from sklearn.naive_bayes import GaussianNB\n",
    "from sklearn.svm import SVC\n",
    "\n",
    "models = []\n",
    "\n",
    "models.append(('LDA', LinearDiscriminantAnalysis()))\n",
    "models.append(('KNN', KNeighborsClassifier()))\n",
    "models.append(('CART', DecisionTreeClassifier()))\n",
    "models.append(('NB', GaussianNB()))\n",
    "models.append(('SVM', SVC()))\n",
    "\n",
    "# evaluate each model in turn\n",
    "results = []\n",
    "names = []\n",
    "scoring = 'accuracy'\n",
    "\n",
    "for name, model in models:\n",
    "    model.fit(X_train, y_train)\n",
    "\n",
    "    #Measure accuracy\n",
    "    score = model.score(X_dev, y_dev)\n",
    "    \n",
    "    results.append(score)\n",
    "    names.append(name)\n",
    "    msg = \"%s: %f\" % (name, score)\n",
    "    print(msg)\n",
    "    \n",
    "    \n",
    "    \n",
    "#generate_pred('SVM_bov_y_test_sst.txt')"
   ]
  },
  {
   "cell_type": "markdown",
   "metadata": {},
   "source": [
    "# 4) Sentence classification with LSTMs in Keras"
   ]
  },
  {
   "cell_type": "markdown",
   "metadata": {},
   "source": [
    "## 4.1 - Preprocessing"
   ]
  },
  {
   "cell_type": "code",
   "execution_count": 186,
   "metadata": {},
   "outputs": [],
   "source": [
    "import np_utils\n",
    "from keras.utils import np_utils\n",
    "import keras\n",
    "from keras.preprocessing.text import one_hot, text_to_word_sequence"
   ]
  },
  {
   "cell_type": "code",
   "execution_count": 187,
   "metadata": {},
   "outputs": [],
   "source": [
    "# 1 - Load train/dev/test sets of SST\n",
    "PATH_TO_DATA = \"./data/\"\n",
    "\n",
    "def load_data(file):\n",
    "    x = []\n",
    "    y = []\n",
    "    with open(PATH_TO_DATA + file) as f:\n",
    "        for l in f.readlines():\n",
    "            i, b = l.strip().split(' ', 1)\n",
    "            y.append(int(i))\n",
    "            x.append(b)\n",
    "    return x, y\n",
    "        \n",
    "        \n",
    "X_train, y_train = load_data('SST/stsa.fine.train')\n",
    "X_dev, y_dev = load_data('SST/stsa.fine.dev')\n",
    "\n",
    "\n",
    "X_test = []\n",
    "with open(PATH_TO_DATA + 'SST/stsa.fine.test.X') as f:\n",
    "    for l in f.readlines():\n",
    "        i, b = l.strip().split(' ', 1)\n",
    "        X_test.append(b)\n"
   ]
  },
  {
   "cell_type": "code",
   "execution_count": 188,
   "metadata": {},
   "outputs": [
    {
     "name": "stdout",
     "output_type": "stream",
     "text": [
      "Vocab size :184837\n"
     ]
    }
   ],
   "source": [
    "# 2 - Transform text to integers using keras.preprocessing.text.one_hot function\n",
    "#     https://keras.io/preprocessing/text/\n",
    "\n",
    "vocab=[]\n",
    "for sent in X_train:\n",
    "    for word in sent.split(' '):\n",
    "        vocab.append(word)\n",
    "for sent in X_dev:\n",
    "    for word in sent.split(' '):\n",
    "        vocab.append(word)\n",
    "\n",
    "vocab_size = len(vocab)\n",
    "print('Vocab size :' + str(vocab_size))\n",
    "\n",
    "dev_int = [one_hot(i, vocab_size) for i in X_dev]\n",
    "test_int = [one_hot(i, vocab_size) for i in X_test]\n",
    "train_int = [one_hot(i, vocab_size) for i in X_train]"
   ]
  },
  {
   "cell_type": "markdown",
   "metadata": {},
   "source": [
    "**Padding input data**\n",
    "\n",
    "Models in Keras (and elsewhere) take batches of sentences of the same length as input. It is because Deep Learning framework have been designed to handle well Tensors, which are particularly suited for fast computation on the GPU.\n",
    "\n",
    "Since sentences have different sizes, we \"pad\" them. That is, we add dummy \"padding\" tokens so that they all have the same length.\n",
    "\n",
    "The input to a Keras model thus has this size : (batchsize, maxseqlen) where maxseqlen is the maximum length of a sentence in the batch."
   ]
  },
  {
   "cell_type": "code",
   "execution_count": 190,
   "metadata": {},
   "outputs": [],
   "source": [
    "# 3 - Pad your sequences using keras.preprocessing.sequence.pad_sequences\n",
    "#     https://keras.io/preprocessing/sequence/\n",
    "\n",
    "\n",
    "#[max(len(x) for x in test_int)]) #51\n",
    "#[max(len(x) for x in train_int)]) #49\n",
    "#[max(len(x) for x in dev_int)]) #44\n",
    "\n",
    "#Padding with max_len of all 3 datasets\n",
    "dev_pad = keras.preprocessing.sequence.pad_sequences(dev_int, maxlen=51)\n",
    "test_pad = keras.preprocessing.sequence.pad_sequences(test_int, maxlen=51)\n",
    "train_pad = keras.preprocessing.sequence.pad_sequences(train_int, maxlen=51)\n",
    "\n",
    "#Convert labels to categorical\n",
    "X_train = np.array(train_pad)\n",
    "y_train = np_utils.to_categorical(y_train, num_classes=5)\n",
    "\n",
    "X_dev=np.array(dev_pad)\n",
    "y_dev=np_utils.to_categorical(y_dev, num_classes=5)\n",
    "\n",
    "X_test=np.array(test_pad)"
   ]
  },
  {
   "cell_type": "markdown",
   "metadata": {},
   "source": [
    "## 4.2 - Design and train your model"
   ]
  },
  {
   "cell_type": "code",
   "execution_count": 175,
   "metadata": {},
   "outputs": [
    {
     "name": "stderr",
     "output_type": "stream",
     "text": [
      "/Users/noemiequere/anaconda/lib/python3.6/site-packages/ipykernel_launcher.py:21: UserWarning: Update your `LSTM` call to the Keras 2 API: `LSTM(64, dropout=0.2, recurrent_dropout=0.2)`\n"
     ]
    }
   ],
   "source": [
    "# 4 - Design your encoder + classifier using keras.layers\n",
    "#     In Keras, Torch and other deep learning framework, we create a \"container\" which is the Sequential() module.\n",
    "#     Then we add components to this contained : the lookuptable, the LSTM, the classifier etc.\n",
    "#     All of these components are contained in the Sequential() and are trained together.\n",
    "\n",
    "\n",
    "# ADAPT CODE BELOW\n",
    "\n",
    "\n",
    "from keras.models import Sequential\n",
    "from keras.layers import Embedding, LSTM, Dense, Activation\n",
    "\n",
    "embed_dim  = 48  # word embedding dimension\n",
    "nhid       = 64  # number of hidden units in the LSTM\n",
    "vocab_size = vocab_size  # size of the vocabulary\n",
    "n_classes  = 5\n",
    "\n",
    "\n",
    "model = Sequential()\n",
    "model.add(Embedding(vocab_size, embed_dim))\n",
    "model.add(LSTM(nhid, dropout_W=0.2, dropout_U=0.2))\n",
    "model.add(Dense(n_classes, activation='sigmoid'))"
   ]
  },
  {
   "cell_type": "code",
   "execution_count": 176,
   "metadata": {},
   "outputs": [
    {
     "name": "stdout",
     "output_type": "stream",
     "text": [
      "_________________________________________________________________\n",
      "Layer (type)                 Output Shape              Param #   \n",
      "=================================================================\n",
      "embedding_6 (Embedding)      (None, None, 48)          8872176   \n",
      "_________________________________________________________________\n",
      "lstm_6 (LSTM)                (None, 64)                28928     \n",
      "_________________________________________________________________\n",
      "dense_6 (Dense)              (None, 5)                 325       \n",
      "=================================================================\n",
      "Total params: 8,901,429\n",
      "Trainable params: 8,901,429\n",
      "Non-trainable params: 0\n",
      "_________________________________________________________________\n",
      "None\n"
     ]
    }
   ],
   "source": [
    "# 5 - Define your loss/optimizer/metrics\n",
    "\n",
    "# MODIFY CODE BELOW\n",
    "\n",
    "loss_classif     =  'binary_crossentropy' # find the right loss for multi-class classification\n",
    "optimizer        =  'adam' # find the right optimizer\n",
    "metrics_classif  =  ['accuracy']\n",
    "\n",
    "# Observe how easy (but blackboxed) this is in Keras\n",
    "model.compile(loss=loss_classif,\n",
    "              optimizer=optimizer,\n",
    "              metrics=metrics_classif)\n",
    "print(model.summary())\n",
    "    #return model"
   ]
  },
  {
   "cell_type": "code",
   "execution_count": 177,
   "metadata": {},
   "outputs": [
    {
     "name": "stdout",
     "output_type": "stream",
     "text": [
      "Train on 8544 samples, validate on 1101 samples\n",
      "Epoch 1/8\n",
      "8544/8544 [==============================] - 70s 8ms/step - loss: 0.5025 - acc: 0.7975 - val_loss: 0.4900 - val_acc: 0.8000\n",
      "Epoch 2/8\n",
      "8544/8544 [==============================] - 60s 7ms/step - loss: 0.4597 - acc: 0.7998 - val_loss: 0.4519 - val_acc: 0.7922\n",
      "Epoch 3/8\n",
      "8544/8544 [==============================] - 59s 7ms/step - loss: 0.3743 - acc: 0.8245 - val_loss: 0.4639 - val_acc: 0.7864\n",
      "Epoch 4/8\n",
      "8544/8544 [==============================] - 62s 7ms/step - loss: 0.2833 - acc: 0.8800 - val_loss: 0.5143 - val_acc: 0.7777\n",
      "Epoch 5/8\n",
      "8544/8544 [==============================] - 63s 7ms/step - loss: 0.2003 - acc: 0.9236 - val_loss: 0.5857 - val_acc: 0.7718\n",
      "Epoch 6/8\n",
      "8544/8544 [==============================] - 62s 7ms/step - loss: 0.1439 - acc: 0.9482 - val_loss: 0.6562 - val_acc: 0.7600\n",
      "Epoch 7/8\n",
      "8544/8544 [==============================] - 62s 7ms/step - loss: 0.1094 - acc: 0.9619 - val_loss: 0.7466 - val_acc: 0.7515\n",
      "Epoch 8/8\n",
      "8544/8544 [==============================] - 59s 7ms/step - loss: 0.0865 - acc: 0.9713 - val_loss: 0.8239 - val_acc: 0.7540\n",
      "dict_keys(['val_loss', 'val_acc', 'loss', 'acc'])\n"
     ]
    },
    {
     "data": {
      "image/png": "[encoded data removed]",
      "text/plain": [
       "<matplotlib.figure.Figure at 0x14ceed438>"
      ]
     },
     "metadata": {},
     "output_type": "display_data"
    },
    {
     "data": {
      "image/png": "[encoded data removed]",
      "text/plain": [
       "<matplotlib.figure.Figure at 0x138c39160>"
      ]
     },
     "metadata": {},
     "output_type": "display_data"
    }
   ],
   "source": [
    "# 6 - Train your model and find the best hyperparameters for your dev set\n",
    "#     you will be evaluated on the quality of your predictions on the test set\n",
    "from keras.wrappers.scikit_learn import KerasClassifier\n",
    "from sklearn import grid_search\n",
    "import matplotlib.pyplot as plt\n",
    "\n",
    "##After several trials, I had the best results with batch_size = 30 and n_epochs = 8\n",
    "\n",
    "bs = 30\n",
    "n_epochs = 8\n",
    "\n",
    "history = model.fit(X_train, y_train, batch_size=bs, epochs=n_epochs, validation_data=(X_dev, y_dev))\n",
    "\n",
    "model.metrics_names\n",
    "print(history.history.keys())\n",
    "#  \"Accuracy\"\n",
    "plt.plot(history.history['acc'])\n",
    "plt.plot(history.history['val_acc'])\n",
    "plt.title('model accuracy')\n",
    "plt.ylabel('accuracy')\n",
    "plt.xlabel('epoch')\n",
    "plt.legend(['train', 'validation'], loc='upper left')\n",
    "plt.show()\n",
    "# \"Loss\"\n",
    "plt.plot(history.history['loss'])\n",
    "plt.plot(history.history['val_loss'])\n",
    "plt.title('model loss')\n",
    "plt.ylabel('loss')\n",
    "plt.xlabel('epoch')\n",
    "plt.legend(['train', 'validation'], loc='upper left')\n",
    "plt.show()"
   ]
  },
  {
   "cell_type": "code",
   "execution_count": 195,
   "metadata": {},
   "outputs": [],
   "source": [
    "# 7 - Generate your predictions on the test set using model.predict(x_test)\n",
    "#     https://keras.io/models/model/\n",
    "#     Log your predictions in a file (one line = one integer: 0,1,2,3,4)\n",
    "#     Attach the output file \"logreg_lstm_y_test_sst.txt\" to your deliverable.\n",
    "\n",
    "y_pred = model.predict(X_test)\n",
    "\n",
    "y_pred_final=[]\n",
    "for i in range(y_pred.shape[0]):\n",
    "    y_pred_final.append(np.argmax(y_pred[i]))\n",
    "\n",
    "f = open('logreg_lstm_y_test_sst.txt', 'w')\n",
    "    \n",
    "for i in range(len(y_pred_final)):                  \n",
    "    f.write(str(y_pred_final[i]))                  \n",
    "f.close()  \n"
   ]
  },
  {
   "cell_type": "markdown",
   "metadata": {},
   "source": [
    "## 4.3 -- innovate !"
   ]
  },
  {
   "cell_type": "code",
   "execution_count": 204,
   "metadata": {},
   "outputs": [
    {
     "name": "stdout",
     "output_type": "stream",
     "text": [
      "_________________________________________________________________\n",
      "Layer (type)                 Output Shape              Param #   \n",
      "=================================================================\n",
      "embedding_12 (Embedding)     (None, None, 48)          8872176   \n",
      "_________________________________________________________________\n",
      "conv1d_5 (Conv1D)            (None, None, 32)          4640      \n",
      "_________________________________________________________________\n",
      "max_pooling1d_4 (MaxPooling1 (None, None, 32)          0         \n",
      "_________________________________________________________________\n",
      "lstm_10 (LSTM)               (None, 64)                24832     \n",
      "_________________________________________________________________\n",
      "dense_10 (Dense)             (None, 5)                 325       \n",
      "=================================================================\n",
      "Total params: 8,901,973\n",
      "Trainable params: 8,901,973\n",
      "Non-trainable params: 0\n",
      "_________________________________________________________________\n",
      "Train on 8544 samples, validate on 1101 samples\n",
      "Epoch 1/12\n",
      "8544/8544 [==============================] - 49s 6ms/step - loss: 1.5435 - acc: 0.3052 - val_loss: 1.4061 - val_acc: 0.3742\n",
      "Epoch 2/12\n",
      "8544/8544 [==============================] - 47s 5ms/step - loss: 1.2019 - acc: 0.4826 - val_loss: 1.3512 - val_acc: 0.3806\n",
      "Epoch 3/12\n",
      "8544/8544 [==============================] - 44s 5ms/step - loss: 0.7871 - acc: 0.6809 - val_loss: 1.6686 - val_acc: 0.3878\n",
      "Epoch 4/12\n",
      "8544/8544 [==============================] - 42s 5ms/step - loss: 0.4353 - acc: 0.8426 - val_loss: 2.0929 - val_acc: 0.3497\n",
      "Epoch 5/12\n",
      "8544/8544 [==============================] - 46s 5ms/step - loss: 0.2235 - acc: 0.9237 - val_loss: 2.5447 - val_acc: 0.3706\n",
      "Epoch 6/12\n",
      "8544/8544 [==============================] - 46s 5ms/step - loss: 0.1203 - acc: 0.9615 - val_loss: 2.9631 - val_acc: 0.3697\n",
      "Epoch 7/12\n",
      "8544/8544 [==============================] - 48s 6ms/step - loss: 0.0730 - acc: 0.9785 - val_loss: 3.4421 - val_acc: 0.3542\n",
      "Epoch 8/12\n",
      "8544/8544 [==============================] - 49s 6ms/step - loss: 0.0509 - acc: 0.9860 - val_loss: 3.6099 - val_acc: 0.3642\n",
      "Epoch 9/12\n",
      "8544/8544 [==============================] - 48s 6ms/step - loss: 0.0341 - acc: 0.9902 - val_loss: 3.7228 - val_acc: 0.3678\n",
      "Epoch 10/12\n",
      "8544/8544 [==============================] - 49s 6ms/step - loss: 0.0240 - acc: 0.9940 - val_loss: 4.0897 - val_acc: 0.3688\n",
      "Epoch 11/12\n",
      "8544/8544 [==============================] - 43s 5ms/step - loss: 0.0179 - acc: 0.9953 - val_loss: 4.4024 - val_acc: 0.3533\n",
      "Epoch 12/12\n",
      "8544/8544 [==============================] - 45s 5ms/step - loss: 0.0202 - acc: 0.9945 - val_loss: 4.2048 - val_acc: 0.3388\n",
      "2210/2210 [==============================] - 1s 254us/step\n"
     ]
    }
   ],
   "source": [
    "# 8 - Open question: find a model that is better on your dev set\n",
    "#     (e.g: use a 1D ConvNet, use a better classifier, pretrain your lookup tables ..)\n",
    "#     you will get point if the results on the test set are better: be careful of not overfitting your dev set too much..\n",
    "#     Attach the output file \"XXX_XXX_y_test_sst.txt\" to your deliverable.\n",
    "\n",
    "from keras.layers import Conv1D, Dropout, MaxPooling1D, Flatten\n",
    "from keras.callbacks import EarlyStopping\n",
    "\n",
    "\n",
    "#Building a new linear classifier\n",
    "model_2 = Sequential()\n",
    "\n",
    "#Adding Conv1D layer\n",
    "model_2.add(Embedding(vocab_size, embed_dim))\n",
    "model_2.add(Conv1D(filters=32, kernel_size=3, padding='same', activation='relu'))\n",
    "model_2.add(MaxPooling1D(pool_size=2))\n",
    "\n",
    "#Adding LSTM layer\n",
    "model_2.add(LSTM(nhid))\n",
    "model_2.add(Dense(n_classes, activation='softmax'))\n",
    "\n",
    "#Compile the model\n",
    "\n",
    "\n",
    "model_2.compile(optimizer = 'adam', loss = 'categorical_crossentropy', metrics=['accuracy'])\n",
    "model_2.summary()\n",
    "            \n",
    "model_2.fit(X_train, y_train, validation_data=(X_dev, y_dev), epochs=12)\n",
    "\n",
    "model_2.evaluate(X_test, y_test)\n",
    "            \n",
    "y_pred = model.predict(X_test)\n",
    "\n",
    "y_pred_final=[]\n",
    "for i in range(y_pred.shape[0]):\n",
    "    y_pred_final.append(np.argmax(y_pred[i]))\n",
    "\n",
    "f = open('1DConv_lstm_y_test_sst.txt', 'w')\n",
    "    \n",
    "for i in range(len(y_pred_final)):                  \n",
    "    f.write(str(y_pred_final[i]))                  \n",
    "f.close() \n"
   ]
  }
 ],
 "metadata": {
  "kernelspec": {
   "display_name": "Python 2",
   "language": "python",
   "name": "python2"
  },
  "language_info": {
   "codemirror_mode": {
    "name": "ipython",
    "version": 2
   },
   "file_extension": ".py",
   "mimetype": "text/x-python",
   "name": "python",
   "nbconvert_exporter": "python",
   "pygments_lexer": "ipython2",
   "version": "2.7.14"
  }
 },
 "nbformat": 4,
 "nbformat_minor": 1
}
